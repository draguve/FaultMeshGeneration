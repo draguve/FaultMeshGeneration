{
 "cells": [
  {
   "cell_type": "code",
   "execution_count": 1,
   "id": "e2ae65ff-78b8-4c31-b2c9-15878078ba36",
   "metadata": {
    "ExecuteTime": {
     "end_time": "2024-07-02T22:31:52.396368300Z",
     "start_time": "2024-07-02T22:31:47.664612600Z"
    }
   },
   "outputs": [],
   "source": [
    "import folium\n",
    "import zipfile\n",
    "import io\n",
    "from fastkml import kml\n",
    "import pandas as pd\n",
    "from io import StringIO\n",
    "import csv\n",
    "from tqdm import tqdm\n",
    "import numpy as np\n",
    "import matplotlib.pyplot as plt\n",
    "from shapely.geometry import MultiLineString, LineString\n",
    "    \n",
    "# import pyvista as pv\n",
    "# pv.set_jupyter_backend('client')\n",
    "\n",
    "import py3dep"
   ]
  },
  {
   "cell_type": "code",
   "execution_count": 5,
   "id": "002a8b0d-f7ce-43cf-872e-c3b6e706aba4",
   "metadata": {
    "ExecuteTime": {
     "end_time": "2024-05-08T23:25:59.622822700Z",
     "start_time": "2024-05-08T23:25:59.617829100Z"
    }
   },
   "outputs": [],
   "source": [
    "# read KML content \n",
    "kmz = zipfile.ZipFile(\"qfaults.kmz\", 'r')  # extract zip file first, then read kmz file inside the extracted folder\n",
    "kml_content = kmz.open('doc.kml', 'r').read()  # kml content\n",
    "k = kml.KML()\n",
    "k.from_string(kml_content)"
   ]
  },
  {
   "cell_type": "code",
   "execution_count": 3,
   "id": "05e3462d-3a5c-403d-8e02-fcae70509d76",
   "metadata": {},
   "outputs": [
    {
     "ename": "FileNotFoundError",
     "evalue": "[Errno 2] No such file or directory: 'NSHM23_GeologicDeformationModel.kml'",
     "output_type": "error",
     "traceback": [
      "\u001b[0;31m---------------------------------------------------------------------------\u001b[0m",
      "\u001b[0;31mFileNotFoundError\u001b[0m                         Traceback (most recent call last)",
      "Cell \u001b[0;32mIn[3], line 23\u001b[0m\n\u001b[1;32m     18\u001b[0m             filtered_kml\u001b[38;5;241m.\u001b[39mappend(new_doc)\n\u001b[1;32m     20\u001b[0m     \u001b[38;5;28;01mreturn\u001b[39;00m filtered_kml\n\u001b[0;32m---> 23\u001b[0m kml_content \u001b[38;5;241m=\u001b[39m \u001b[38;5;28;43mopen\u001b[39;49m\u001b[43m(\u001b[49m\u001b[38;5;124;43m'\u001b[39;49m\u001b[38;5;124;43mNSHM23_GeologicDeformationModel.kml\u001b[39;49m\u001b[38;5;124;43m'\u001b[39;49m\u001b[43m,\u001b[49m\u001b[43m \u001b[49m\u001b[38;5;124;43m'\u001b[39;49m\u001b[38;5;124;43mr\u001b[39;49m\u001b[38;5;124;43m'\u001b[39;49m\u001b[43m)\u001b[49m\u001b[38;5;241m.\u001b[39mread()  \u001b[38;5;66;03m# kml content\u001b[39;00m\n\u001b[1;32m     24\u001b[0m k \u001b[38;5;241m=\u001b[39m kml\u001b[38;5;241m.\u001b[39mKML()\n\u001b[1;32m     25\u001b[0m k\u001b[38;5;241m.\u001b[39mfrom_string(\u001b[38;5;28mbytes\u001b[39m(kml_content,encoding\u001b[38;5;241m=\u001b[39m\u001b[38;5;124m'\u001b[39m\u001b[38;5;124mutf8\u001b[39m\u001b[38;5;124m'\u001b[39m))\n",
      "File \u001b[0;32m~/miniconda3/envs/geo/lib/python3.13/site-packages/IPython/core/interactiveshell.py:324\u001b[0m, in \u001b[0;36m_modified_open\u001b[0;34m(file, *args, **kwargs)\u001b[0m\n\u001b[1;32m    317\u001b[0m \u001b[38;5;28;01mif\u001b[39;00m file \u001b[38;5;129;01min\u001b[39;00m {\u001b[38;5;241m0\u001b[39m, \u001b[38;5;241m1\u001b[39m, \u001b[38;5;241m2\u001b[39m}:\n\u001b[1;32m    318\u001b[0m     \u001b[38;5;28;01mraise\u001b[39;00m \u001b[38;5;167;01mValueError\u001b[39;00m(\n\u001b[1;32m    319\u001b[0m         \u001b[38;5;124mf\u001b[39m\u001b[38;5;124m\"\u001b[39m\u001b[38;5;124mIPython won\u001b[39m\u001b[38;5;124m'\u001b[39m\u001b[38;5;124mt let you open fd=\u001b[39m\u001b[38;5;132;01m{\u001b[39;00mfile\u001b[38;5;132;01m}\u001b[39;00m\u001b[38;5;124m by default \u001b[39m\u001b[38;5;124m\"\u001b[39m\n\u001b[1;32m    320\u001b[0m         \u001b[38;5;124m\"\u001b[39m\u001b[38;5;124mas it is likely to crash IPython. If you know what you are doing, \u001b[39m\u001b[38;5;124m\"\u001b[39m\n\u001b[1;32m    321\u001b[0m         \u001b[38;5;124m\"\u001b[39m\u001b[38;5;124myou can use builtins\u001b[39m\u001b[38;5;124m'\u001b[39m\u001b[38;5;124m open.\u001b[39m\u001b[38;5;124m\"\u001b[39m\n\u001b[1;32m    322\u001b[0m     )\n\u001b[0;32m--> 324\u001b[0m \u001b[38;5;28;01mreturn\u001b[39;00m \u001b[43mio_open\u001b[49m\u001b[43m(\u001b[49m\u001b[43mfile\u001b[49m\u001b[43m,\u001b[49m\u001b[43m \u001b[49m\u001b[38;5;241;43m*\u001b[39;49m\u001b[43margs\u001b[49m\u001b[43m,\u001b[49m\u001b[43m \u001b[49m\u001b[38;5;241;43m*\u001b[39;49m\u001b[38;5;241;43m*\u001b[39;49m\u001b[43mkwargs\u001b[49m\u001b[43m)\u001b[49m\n",
      "\u001b[0;31mFileNotFoundError\u001b[0m: [Errno 2] No such file or directory: 'NSHM23_GeologicDeformationModel.kml'"
     ]
    }
   ],
   "source": [
    "# Step 3: Filter the landmarks based on a given name\n",
    "def filter_kml_by_name(k, name_filters):\n",
    "    filtered_kml = kml.KML()\n",
    "    ns = '{http://www.opengis.net/kml/2.2}'\n",
    "\n",
    "    for document in k.features():\n",
    "        new_doc = kml.Document(ns, document.id, document.name, document.description)\n",
    "        for folder in document.features():\n",
    "            new_folder = kml.Folder(ns, folder.id, folder.name, folder.description)\n",
    "            for placemark in folder.features():\n",
    "                for name_filter in name_filters:\n",
    "                    if name_filter in placemark.to_string():\n",
    "                        new_folder.append(placemark)\n",
    "                        break\n",
    "            if new_folder.features():\n",
    "                new_doc.append(new_folder)\n",
    "        if new_doc.features():\n",
    "            filtered_kml.append(new_doc)\n",
    "    \n",
    "    return filtered_kml\n",
    "\n",
    "\n",
    "kml_content = open('NSHM23_GeologicDeformationModel.kml', 'r').read()  # kml content\n",
    "k = kml.KML()\n",
    "k.from_string(bytes(kml_content,encoding='utf8'))\n",
    "# Filter landmarks by name\n",
    "name_filter = [\"Calaveras\",\"Hayward\",\"Rodgers\"]  # Change this to the name you want to filter by\n",
    "filtered_k = filter_kml_by_name(k, name_filter)\n",
    "\n",
    "# Step 4: Write the filtered KML content to a new file\n",
    "with open(\"filtered_nshm23.kml\", 'w', encoding='utf-8') as f:\n",
    "    f.write(filtered_k.to_string(prettyprint=True))"
   ]
  },
  {
   "cell_type": "code",
   "execution_count": 6,
   "id": "abda2a7b-268d-4e18-aacb-a893be25beaf",
   "metadata": {
    "ExecuteTime": {
     "end_time": "2024-07-02T22:54:16.610034600Z",
     "start_time": "2024-07-02T22:54:16.603135500Z"
    }
   },
   "outputs": [
    {
     "ename": "FileNotFoundError",
     "evalue": "[Errno 2] No such file or directory: 'filtered_qfaults.kml'",
     "output_type": "error",
     "traceback": [
      "\u001b[0;31m---------------------------------------------------------------------------\u001b[0m",
      "\u001b[0;31mFileNotFoundError\u001b[0m                         Traceback (most recent call last)",
      "Cell \u001b[0;32mIn[6], line 2\u001b[0m\n\u001b[1;32m      1\u001b[0m \u001b[38;5;66;03m# Function to extract Placemark data\u001b[39;00m\n\u001b[0;32m----> 2\u001b[0m kml_content \u001b[38;5;241m=\u001b[39m \u001b[38;5;28;43mopen\u001b[39;49m\u001b[43m(\u001b[49m\u001b[38;5;124;43m'\u001b[39;49m\u001b[38;5;124;43mfiltered_qfaults.kml\u001b[39;49m\u001b[38;5;124;43m'\u001b[39;49m\u001b[43m,\u001b[49m\u001b[43m \u001b[49m\u001b[38;5;124;43m'\u001b[39;49m\u001b[38;5;124;43mr\u001b[39;49m\u001b[38;5;124;43m'\u001b[39;49m\u001b[43m)\u001b[49m\u001b[38;5;241m.\u001b[39mread()  \u001b[38;5;66;03m# kml content\u001b[39;00m\n\u001b[1;32m      3\u001b[0m filtered_k \u001b[38;5;241m=\u001b[39m kml\u001b[38;5;241m.\u001b[39mKML()\n\u001b[1;32m      4\u001b[0m filtered_k\u001b[38;5;241m.\u001b[39mfrom_string(\u001b[38;5;28mbytes\u001b[39m(kml_content,encoding\u001b[38;5;241m=\u001b[39m\u001b[38;5;124m'\u001b[39m\u001b[38;5;124mutf8\u001b[39m\u001b[38;5;124m'\u001b[39m))\n",
      "File \u001b[0;32m~/miniconda3/envs/geo/lib/python3.13/site-packages/IPython/core/interactiveshell.py:324\u001b[0m, in \u001b[0;36m_modified_open\u001b[0;34m(file, *args, **kwargs)\u001b[0m\n\u001b[1;32m    317\u001b[0m \u001b[38;5;28;01mif\u001b[39;00m file \u001b[38;5;129;01min\u001b[39;00m {\u001b[38;5;241m0\u001b[39m, \u001b[38;5;241m1\u001b[39m, \u001b[38;5;241m2\u001b[39m}:\n\u001b[1;32m    318\u001b[0m     \u001b[38;5;28;01mraise\u001b[39;00m \u001b[38;5;167;01mValueError\u001b[39;00m(\n\u001b[1;32m    319\u001b[0m         \u001b[38;5;124mf\u001b[39m\u001b[38;5;124m\"\u001b[39m\u001b[38;5;124mIPython won\u001b[39m\u001b[38;5;124m'\u001b[39m\u001b[38;5;124mt let you open fd=\u001b[39m\u001b[38;5;132;01m{\u001b[39;00mfile\u001b[38;5;132;01m}\u001b[39;00m\u001b[38;5;124m by default \u001b[39m\u001b[38;5;124m\"\u001b[39m\n\u001b[1;32m    320\u001b[0m         \u001b[38;5;124m\"\u001b[39m\u001b[38;5;124mas it is likely to crash IPython. If you know what you are doing, \u001b[39m\u001b[38;5;124m\"\u001b[39m\n\u001b[1;32m    321\u001b[0m         \u001b[38;5;124m\"\u001b[39m\u001b[38;5;124myou can use builtins\u001b[39m\u001b[38;5;124m'\u001b[39m\u001b[38;5;124m open.\u001b[39m\u001b[38;5;124m\"\u001b[39m\n\u001b[1;32m    322\u001b[0m     )\n\u001b[0;32m--> 324\u001b[0m \u001b[38;5;28;01mreturn\u001b[39;00m \u001b[43mio_open\u001b[49m\u001b[43m(\u001b[49m\u001b[43mfile\u001b[49m\u001b[43m,\u001b[49m\u001b[43m \u001b[49m\u001b[38;5;241;43m*\u001b[39;49m\u001b[43margs\u001b[49m\u001b[43m,\u001b[49m\u001b[43m \u001b[49m\u001b[38;5;241;43m*\u001b[39;49m\u001b[38;5;241;43m*\u001b[39;49m\u001b[43mkwargs\u001b[49m\u001b[43m)\u001b[49m\n",
      "\u001b[0;31mFileNotFoundError\u001b[0m: [Errno 2] No such file or directory: 'filtered_qfaults.kml'"
     ]
    }
   ],
   "source": [
    "# Function to extract Placemark data\n",
    "kml_content = open('filtered_qfaults.kml', 'r').read()  # kml content\n",
    "filtered_k = kml.KML()\n",
    "filtered_k.from_string(bytes(kml_content,encoding='utf8'))\n",
    "def extract_placemark_data(placemark):\n",
    "    data = {}\n",
    "    if placemark.extended_data is not None:\n",
    "        for ed in placemark.extended_data.elements:\n",
    "            if ed.name == 'FaultID':\n",
    "                data['id'] = ed.value\n",
    "            elif ed.name == 'FaultName':\n",
    "                data['name'] = ed.value\n",
    "    else:\n",
    "        if placemark.id is not None:\n",
    "            data[\"id\"] = placemark.id\n",
    "            data[\"name\"] = placemark.name\n",
    "\n",
    "    coordinates = []\n",
    "    for geom in placemark.geometry.geoms:\n",
    "        if isinstance(geom, MultiLineString):\n",
    "            for linestring in geom.geoms:\n",
    "                coordinates.extend(linestring.coords[:])\n",
    "        else:\n",
    "            coordinates.extend(geom.coords[:])\n",
    "    formatted = []\n",
    "    for coord in coordinates:\n",
    "        formatted.append(f\"{coord[0]} {coord[1]} {coord[2]}\")\n",
    "    data['multilinestring'] = f\"MULTILINESTRING(({\",\".join(formatted)}))\"\n",
    "    return data\n",
    "\n",
    "# Extract data\n",
    "placemarks_data = []\n",
    "for document in filtered_k.features():\n",
    "    for feature in document.features():\n",
    "        if isinstance(feature, kml.Folder):\n",
    "            for placemark in feature.features():\n",
    "                placemarks_data.append(extract_placemark_data(placemark))\n",
    "        elif isinstance(feature, kml.Placemark):\n",
    "            placemarks_data.append(extract_placemark_data(feature))\n",
    "\n",
    "# Write to CSV\n",
    "with open('filtered_qfaults.csv', mode='w', newline='') as file:\n",
    "    writer = csv.writer(file)\n",
    "    writer.writerow(['id', 'name',\"to_join\", 'multilinestring'])\n",
    "\n",
    "    for data in placemarks_data:\n",
    "        writer.writerow([data['id'], data['name'],\"\", data['multilinestring']])"
   ]
  },
  {
   "cell_type": "code",
   "execution_count": 7,
   "id": "e2f12cc6-32cf-4f5b-8ff8-eb67fde45cfd",
   "metadata": {
    "ExecuteTime": {
     "end_time": "2024-05-08T23:24:42.880749800Z",
     "start_time": "2024-05-08T23:24:42.657076700Z"
    }
   },
   "outputs": [
    {
     "name": "stdout",
     "output_type": "stream",
     "text": [
      "2107\n",
      "112527\n"
     ]
    }
   ],
   "source": [
    "docs = list(k.features())\n",
    "folders=[]\n",
    "for d in docs:\n",
    "    folders.extend(list(d.features()))\n",
    "records = []\n",
    "for f in folders:\n",
    "    records.extend(list(f.features()))\n",
    "geoms = [element.geometry for element in records]\n",
    "\n",
    "names = [element.name for element in records]\n",
    "print(len(set(names)))\n",
    "print(len(names))\n",
    "geoms = [element.geometry for element in records]  # extract geometry"
   ]
  },
  {
   "cell_type": "code",
   "execution_count": 8,
   "id": "5bbd920c-4314-4597-805b-974437059575",
   "metadata": {},
   "outputs": [],
   "source": [
    "def get_header(record):\n",
    "    tables = pd.read_html(StringIO(str(record.description)))\n",
    "    data_table = list(tables[1][0])\n",
    "    return data_table\n",
    "\n",
    "def read_record(record):\n",
    "    tables = pd.read_html(StringIO(str(record.description)))\n",
    "    data_table = list(tables[1][1])\n",
    "    return data_table\n",
    "\n",
    "def get_all_data(record):\n",
    "    data = []\n",
    "    data.append(record.name)\n",
    "    data.append(record.id)\n",
    "    data.extend(read_record(record))\n",
    "    data.append(record.geometry.wkt)\n",
    "    return data\n",
    "\n",
    "def get_all_headers(record):\n",
    "    data = []\n",
    "    data.append(\"Name\")\n",
    "    data.append(\"ID\")\n",
    "    data.extend(get_header(record))\n",
    "    data.append(\"Geom\")\n",
    "    return data\n",
    "\n",
    "# print(get_all_headers(records[0]))\n",
    "# print(get_all_data(records[0]))\n",
    "# headers = [len(get_header(element)) for element in records]"
   ]
  },
  {
   "cell_type": "code",
   "execution_count": 9,
   "id": "a50525ba0560d9bc",
   "metadata": {
    "collapsed": false,
    "jupyter": {
     "outputs_hidden": false
    }
   },
   "outputs": [],
   "source": [
    "# dir(geoms[0])"
   ]
  },
  {
   "cell_type": "code",
   "execution_count": 10,
   "id": "38dd48f3a6be9683",
   "metadata": {
    "collapsed": false,
    "is_executing": true,
    "jupyter": {
     "outputs_hidden": false
    }
   },
   "outputs": [
    {
     "name": "stdout",
     "output_type": "stream",
     "text": [
      "[['Calaveras fault zone', 'ID_013351', 'Calaveras fault zone', 'Northern Calaveras section', '54', 'a', 'California', 'Well Constrained', 'historic', 'Vertical', 'Greater than 5.0 mm/yr', 'Right lateral', '1:24,000', 'A', 'Good', 'N26°W', '156', 'California Geological Survey', nan, '3/4/1999', 'https://earthquake.usgs.gov/cfusion/qfault/show_report_AB_archive.cfm?fault_id=54&section_id=a', 'historic Well Constrained', '54a', '54', 'MULTILINESTRING((-121.8706310002251 37.57822699968291 0.0, -121.8745419999692 37.58673200017499 0.0))'], ['Calaveras fault zone', 'ID_013352', 'Calaveras fault zone', 'Northern Calaveras section', '54', 'a', 'California', 'Moderately Constrained', 'historic', 'Vertical', 'Greater than 5.0 mm/yr', 'Right lateral', 'unspecified', 'A', 'Good', 'N26°W', '156', 'California Geological Survey', nan, '3/4/1999', 'https://earthquake.usgs.gov/cfusion/qfault/show_report_AB_archive.cfm?fault_id=54&section_id=a', 'historic Moderately Constrained', '54a', '54', 'MULTILINESTRING((-121.9640960001623 37.74982199973721 0.0, -121.95160600142 37.73239599981051 0.0))'], ['Calaveras fault zone', 'ID_013353', 'Calaveras fault zone', 'Central Calaveras fault section', '54', 'b', 'California', 'Moderately Constrained', 'historic', 'Vertical', 'Greater than 5.0 mm/yr', 'Right lateral', '1:24,000', 'A', 'Good', 'N31°W', '156', 'California Geological Survey', nan, '3/4/1999', 'https://earthquake.usgs.gov/cfusion/qfault/show_report_AB_archive.cfm?fault_id=54&section_id=b', 'historic Moderately Constrained', '54b', '54', 'MULTILINESTRING((-121.4841609993886 36.99956699995365 0.0, -121.4838039999115 36.99898799971162 0.0, -121.4836089999178 36.99870599875921 0.0))'], ['Calaveras fault zone', 'ID_013354', 'Calaveras fault zone', 'Central Calaveras fault section', '54', 'b', 'California', 'Moderately Constrained', 'historic', 'Vertical', 'Greater than 5.0 mm/yr', 'Right lateral', '1:24,000', 'A', 'Good', 'N31°W', '156', 'California Geological Survey', nan, '3/4/1999', 'https://earthquake.usgs.gov/cfusion/qfault/show_report_AB_archive.cfm?fault_id=54&section_id=b', 'historic Moderately Constrained', '54b', '54', 'MULTILINESTRING((-121.4652980007794 36.98648700033954 0.0, -121.4655439999284 36.98668700030647 0.0, -121.466064999437 36.98705700011477 0.0))'], ['Calaveras fault zone', 'ID_013355', 'Calaveras fault zone', 'Central Calaveras fault section', '54', 'b', 'California', 'Moderately Constrained', 'historic', 'Vertical', 'Greater than 5.0 mm/yr', 'Right lateral', '1:24,000', 'A', 'Good', 'N31°W', '156', 'California Geological Survey', nan, '3/4/1999', 'https://earthquake.usgs.gov/cfusion/qfault/show_report_AB_archive.cfm?fault_id=54&section_id=b', 'historic Moderately Constrained', '54b', '54', 'MULTILINESTRING((-121.4640670007181 36.98548899964248 0.0, -121.4643320001336 36.98574199987173 0.0, -121.4645020000129 36.98588299975911 0.0, -121.4646140001659 36.98596799967695 0.0, -121.4648359999238 36.98612000001921 0.0))'], ['Calaveras fault zone', 'ID_013356', 'Calaveras fault zone', 'Central Calaveras fault section', '54', 'b', 'California', 'Well Constrained', 'historic', 'Vertical', 'Greater than 5.0 mm/yr', 'Right lateral', '1:24,000', 'A', 'Good', 'N31°W', '156', 'California Geological Survey', nan, '3/4/1999', 'https://earthquake.usgs.gov/cfusion/qfault/show_report_AB_archive.cfm?fault_id=54&section_id=b', 'historic Well Constrained', '54b', '54', 'MULTILINESTRING((-121.5891059997362 37.15520100023473 0.0, -121.5887449991629 37.15481499973999 0.0))'], ['Calaveras fault zone', 'ID_013357', 'Calaveras fault zone', 'Central Calaveras fault section', '54', 'b', 'California', 'Well Constrained', 'historic', 'Vertical', 'Greater than 5.0 mm/yr', 'Right lateral', '1:24,000', 'A', 'Good', 'N31°W', '156', 'California Geological Survey', nan, '3/4/1999', 'https://earthquake.usgs.gov/cfusion/qfault/show_report_AB_archive.cfm?fault_id=54&section_id=b', 'historic Well Constrained', '54b', '54', 'MULTILINESTRING((-121.4747859996238 36.99064399978777 0.0, -121.4756019995835 36.99110800009669 0.0, -121.4771630002561 36.99221500005687 0.0, -121.478887000237 36.99365000002059 0.0, -121.4802660004364 36.9949580001954 0.0, -121.4815810001633 36.99633399967085 0.0, -121.4834909999171 36.99856099995611 0.0))'], ['Calaveras fault zone', 'ID_013358', 'Calaveras fault zone', 'Central Calaveras fault section', '54', 'b', 'California', 'Well Constrained', 'historic', 'Vertical', 'Greater than 5.0 mm/yr', 'Right lateral', '1:24,000', 'A', 'Good', 'N31°W', '156', 'California Geological Survey', nan, '3/4/1999', 'https://earthquake.usgs.gov/cfusion/qfault/show_report_AB_archive.cfm?fault_id=54&section_id=b', 'historic Well Constrained', '54b', '54', 'MULTILINESTRING((-121.478265000446 36.99836399998647 0.0, -121.4785609998237 36.99871800007271 0.0, -121.4787730004342 36.99899799933439 0.0, -121.4792069999041 36.99962299969361 0.0))'], ['Calaveras fault zone', 'ID_013359', 'Calaveras fault zone', 'Central Calaveras fault section', '54', 'b', 'California', 'Well Constrained', 'historic', 'Vertical', 'Greater than 5.0 mm/yr', 'Right lateral', '1:24,000', 'A', 'Good', 'N31°W', '156', 'California Geological Survey', nan, '3/4/1999', 'https://earthquake.usgs.gov/cfusion/qfault/show_report_AB_archive.cfm?fault_id=54&section_id=b', 'historic Well Constrained', '54b', '54', 'MULTILINESTRING((-121.4758259998895 36.99711500010971 0.0, -121.4760500001955 36.99740399995763 0.0, -121.476502999932 36.99789799994214 0.0, -121.477159999883 36.99858100003015 0.0, -121.4784110000359 36.99992900020926 0.0))'], ['Calaveras fault zone', 'ID_013360', 'Calaveras fault zone', 'Central Calaveras fault section', '54', 'b', 'California', 'Well Constrained', 'historic', 'Vertical', 'Greater than 5.0 mm/yr', 'Right lateral', '1:24,000', 'A', 'Good', 'N31°W', '156', 'California Geological Survey', nan, '3/4/1999', 'https://earthquake.usgs.gov/cfusion/qfault/show_report_AB_archive.cfm?fault_id=54&section_id=b', 'historic Well Constrained', '54b', '54', 'MULTILINESTRING((-121.4774329996945 36.99744299986543 0.0, -121.4781329993033 36.99825799930355 0.0))'], ['Calaveras fault zone', 'ID_013361', 'Calaveras fault zone', 'Central Calaveras fault section', '54', 'b', 'California', 'Well Constrained', 'historic', 'Vertical', 'Greater than 5.0 mm/yr', 'Right lateral', '1:24,000', 'A', 'Good', 'N31°W', '156', 'California Geological Survey', nan, '3/4/1999', 'https://earthquake.usgs.gov/cfusion/qfault/show_report_AB_archive.cfm?fault_id=54&section_id=b', 'historic Well Constrained', '54b', '54', 'MULTILINESTRING((-121.4741400004417 36.99363000008464 0.0, -121.4746850002398 36.99417700128038 0.0, -121.4755160002681 36.99509500030813 0.0, -121.4764490004036 36.9962120003395 0.0, -121.4772910003026 36.99732299969895 0.0))'], ['Calaveras fault zone', 'ID_013362', 'Calaveras fault zone', 'Central Calaveras fault section', '54', 'b', 'California', 'Well Constrained', 'historic', 'Vertical', 'Greater than 5.0 mm/yr', 'Right lateral', '1:24,000', 'A', 'Good', 'N31°W', '156', 'California Geological Survey', nan, '3/4/1999', 'https://earthquake.usgs.gov/cfusion/qfault/show_report_AB_archive.cfm?fault_id=54&section_id=b', 'historic Well Constrained', '54b', '54', 'MULTILINESTRING((-121.4662120006484 36.98715100035727 0.0, -121.4681449999684 36.98846999874649 0.0, -121.4694539998476 36.98946799979854 0.0, -121.4714769995792 36.99117700016838 0.0, -121.4740319995884 36.99348199967775 0.0))'], ['Calaveras fault zone', 'ID_013363', 'Calaveras fault zone', 'Central Calaveras fault section', '54', 'b', 'California', 'Well Constrained', 'historic', 'Vertical', 'Greater than 5.0 mm/yr', 'Right lateral', '1:24,000', 'A', 'Good', 'N31°W', '156', 'California Geological Survey', nan, '3/4/1999', 'https://earthquake.usgs.gov/cfusion/qfault/show_report_AB_archive.cfm?fault_id=54&section_id=b', 'historic Well Constrained', '54b', '54', 'MULTILINESTRING((-121.4668849995947 36.98609700014741 0.0, -121.4674240004433 36.98662000028641 0.0, -121.4683459998099 36.98718999978262 0.0, -121.469568001447 36.98773000031275 0.0, -121.4711480005896 36.9883880002075 0.0, -121.4724490000728 36.98915000028803 0.0, -121.4737269999899 36.99020699975846 0.0))'], ['Calaveras fault zone', 'ID_013364', 'Calaveras fault zone', 'Central Calaveras fault section', '54', 'b', 'California', 'Inferred', 'historic', 'Vertical', 'Greater than 5.0 mm/yr', 'Right lateral', 'unspecified', 'A', 'Good', 'N31°W', '156', 'California Geological Survey', nan, '3/4/1999', 'https://earthquake.usgs.gov/cfusion/qfault/show_report_AB_archive.cfm?fault_id=54&section_id=b', 'historic Inferred', '54b', '54', 'MULTILINESTRING((-121.5221290000494 37.06266500019508 0.0, -121.5230989999949 37.06449300003417 0.0))'], ['Calaveras fault zone', 'ID_013365', 'Calaveras fault zone', 'Central Calaveras fault section', '54', 'b', 'California', 'Inferred', 'historic', 'Vertical', 'Greater than 5.0 mm/yr', 'Right lateral', 'unspecified', 'A', 'Good', 'N31°W', '156', 'California Geological Survey', nan, '3/4/1999', 'https://earthquake.usgs.gov/cfusion/qfault/show_report_AB_archive.cfm?fault_id=54&section_id=b', 'historic Inferred', '54b', '54', 'MULTILINESTRING((-121.507437000577 37.04185799972907 0.0, -121.5076440002662 37.04210399987627 0.0))'], ['Calaveras fault zone', 'ID_013366', 'Calaveras fault zone', 'Central Calaveras fault section', '54', 'b', 'California', 'Inferred', 'historic', 'Vertical', 'Greater than 5.0 mm/yr', 'Right lateral', 'unspecified', 'A', 'Good', 'N31°W', '156', 'California Geological Survey', nan, '3/4/1999', 'https://earthquake.usgs.gov/cfusion/qfault/show_report_AB_archive.cfm?fault_id=54&section_id=b', 'historic Inferred', '54b', '54', 'MULTILINESTRING((-121.5036249996688 37.03746799973482 0.0, -121.503775000355 37.03769099972591 0.0))'], ['Calaveras fault zone', 'ID_013367', 'Calaveras fault zone', 'Central Calaveras fault section', '54', 'b', 'California', 'Moderately Constrained', 'historic', 'Vertical', 'Greater than 5.0 mm/yr', 'Right lateral', 'unspecified', 'A', 'Good', 'N31°W', '156', 'California Geological Survey', nan, '3/4/1999', 'https://earthquake.usgs.gov/cfusion/qfault/show_report_AB_archive.cfm?fault_id=54&section_id=b', 'historic Moderately Constrained', '54b', '54', 'MULTILINESTRING((-121.5054659998256 37.03980699996328 0.0, -121.5046380001703 37.03889199974095 0.0, -121.5042749999472 37.03844000003382 0.0, -121.5038369993809 37.03781099997738 0.0))'], ['Calaveras fault zone', 'ID_013368', 'Calaveras fault zone', 'Central Calaveras fault section', '54', 'b', 'California', 'Moderately Constrained', 'historic', 'Vertical', 'Greater than 5.0 mm/yr', 'Right lateral', 'unspecified', 'A', 'Good', 'N31°W', '156', 'California Geological Survey', nan, '3/4/1999', 'https://earthquake.usgs.gov/cfusion/qfault/show_report_AB_archive.cfm?fault_id=54&section_id=b', 'historic Moderately Constrained', '54b', '54', 'MULTILINESTRING((-121.4800059992471 37.00176599975046 0.0, -121.4800399995822 37.00186800029306 0.0, -121.480053000001 37.00189700010583 0.0, -121.4800749997423 37.00192699997473 0.0, -121.4801340001919 37.00197800123123 0.0, -121.4801950002912 37.00202399997197 0.0, -121.4803479995538 37.00213099977366 0.0))'], ['Calaveras fault zone', 'ID_013369', 'Calaveras fault zone', 'Central Calaveras fault section', '54', 'b', 'California', 'Well Constrained', 'historic', 'Vertical', 'Greater than 5.0 mm/yr', 'Right lateral', 'unspecified', 'A', 'Good', 'N31°W', '156', 'California Geological Survey', nan, '3/4/1999', 'https://earthquake.usgs.gov/cfusion/qfault/show_report_AB_archive.cfm?fault_id=54&section_id=b', 'historic Well Constrained', '54b', '54', 'MULTILINESTRING((-121.523219998572 37.06467099994721 0.0, -121.5233520006132 37.06494899996645 0.0, -121.5236509985673 37.06566599972524 0.0))'], ['Calaveras fault zone', 'ID_013370', 'Calaveras fault zone', 'Central Calaveras fault section', '54', 'b', 'California', 'Well Constrained', 'historic', 'Vertical', 'Greater than 5.0 mm/yr', 'Right lateral', 'unspecified', 'A', 'Good', 'N31°W', '156', 'California Geological Survey', nan, '3/4/1999', 'https://earthquake.usgs.gov/cfusion/qfault/show_report_AB_archive.cfm?fault_id=54&section_id=b', 'historic Well Constrained', '54b', '54', 'MULTILINESTRING((-121.5220680008483 37.06249100125695 0.0, -121.5213289999832 37.06151800068823 0.0, -121.5206400002451 37.06059699973964 0.0, -121.5200439985968 37.05976199965384 0.0, -121.5197250005512 37.05928900030983 0.0, -121.5192200000378 37.05850900019624 0.0, -121.5187150004228 37.05770200004009 0.0, -121.5178850002194 37.05640400012071 0.0, -121.5170319995515 37.05518899999051 0.0, -121.5161329997511 37.05396899998396 0.0, -121.515657999375 37.05336299986466 0.0, -121.515205998565 37.05286700031817 0.0, -121.5144079999453 37.05180700005842 0.0, -121.5137140001844 37.05072300023176 0.0, -121.5131170014061 37.04970900012483 0.0, -121.5128310002775 37.04927800009157 0.0, -121.5125769998343 37.04902099987667 0.0, -121.5123520006017 37.0486570001281 0.0, -121.512066999298 37.04821800132559 0.0, -121.5118200003241 37.04792999987455 0.0, -121.5114279997887 37.04739499988728 0.0, -121.5106620000577 37.04614300004557 0.0, -121.509882000083 37.04462900065746 0.0))'], ['Calaveras fault zone', 'ID_013371', 'Calaveras fault zone', 'Central Calaveras fault section', '54', 'b', 'California', 'Well Constrained', 'historic', 'Vertical', 'Greater than 5.0 mm/yr', 'Right lateral', 'unspecified', 'A', 'Good', 'N31°W', '156', 'California Geological Survey', nan, '3/4/1999', 'https://earthquake.usgs.gov/cfusion/qfault/show_report_AB_archive.cfm?fault_id=54&section_id=b', 'historic Well Constrained', '54b', '54', 'MULTILINESTRING((-121.507646999741 37.04217999989461 0.0, -121.5080710000635 37.04276899978767 0.0, -121.5083029998671 37.04304300020983 0.0, -121.5086979998773 37.04343700032385 0.0, -121.509401999684 37.0440979998311 0.0, -121.5097730003031 37.04455300022276 0.0))'], ['Calaveras fault zone', 'ID_013372', 'Calaveras fault zone', 'Central Calaveras fault section', '54', 'b', 'California', 'Well Constrained', 'historic', 'Vertical', 'Greater than 5.0 mm/yr', 'Right lateral', 'unspecified', 'A', 'Good', 'N31°W', '156', 'California Geological Survey', nan, '3/4/1999', 'https://earthquake.usgs.gov/cfusion/qfault/show_report_AB_archive.cfm?fault_id=54&section_id=b', 'historic Well Constrained', '54b', '54', 'MULTILINESTRING((-121.5069060001243 37.04125999969077 0.0, -121.506948999782 37.04133200020856 0.0, -121.5070470005897 37.04146099994981 0.0, -121.5071139996385 37.04153500008593 0.0, -121.5072319996393 37.0416509996697 0.0, -121.5072899993656 37.04170799877591 0.0))'], ['Calaveras fault zone', 'ID_013373', 'Calaveras fault zone', 'Central Calaveras fault section', '54', 'b', 'California', 'Well Constrained', 'historic', 'Vertical', 'Greater than 5.0 mm/yr', 'Right lateral', 'unspecified', 'A', 'Good', 'N31°W', '156', 'California Geological Survey', nan, '3/4/1999', 'https://earthquake.usgs.gov/cfusion/qfault/show_report_AB_archive.cfm?fault_id=54&section_id=b', 'historic Well Constrained', '54b', '54', 'MULTILINESTRING((-121.5061250003248 37.0399760000228 0.0, -121.5062459998003 37.04023499987186 0.0, -121.506332000014 37.04038899982842 0.0, -121.5064899992994 37.04064299976332 0.0, -121.5067859995754 37.04105700122917 0.0))'], ['Calaveras fault zone', 'ID_013374', 'Calaveras fault zone', 'Central Calaveras fault section', '54', 'b', 'California', 'Well Constrained', 'historic', 'Vertical', 'Greater than 5.0 mm/yr', 'Right lateral', 'unspecified', 'A', 'Good', 'N31°W', '156', 'California Geological Survey', nan, '3/4/1999', 'https://earthquake.usgs.gov/cfusion/qfault/show_report_AB_archive.cfm?fault_id=54&section_id=b', 'historic Well Constrained', '54b', '54', 'MULTILINESTRING((-121.5043629998107 37.03643800013661 0.0, -121.5049469999668 37.03772899872655 0.0, -121.5056199998114 37.03912499993184 0.0, -121.5059019998437 37.03961900122439 0.0, -121.5060349999131 37.03977999869694 0.0))'], ['Calaveras fault zone', 'ID_013375', 'Calaveras fault zone', 'Central Calaveras fault section', '54', 'b', 'California', 'Well Constrained', 'historic', 'Vertical', 'Greater than 5.0 mm/yr', 'Right lateral', 'unspecified', 'A', 'Good', 'N31°W', '156', 'California Geological Survey', nan, '3/4/1999', 'https://earthquake.usgs.gov/cfusion/qfault/show_report_AB_archive.cfm?fault_id=54&section_id=b', 'historic Well Constrained', '54b', '54', 'MULTILINESTRING((-121.5028960006461 37.03335999869297 0.0, -121.5032439999023 37.03426700032102 0.0, -121.5035560000719 37.03491900121944 0.0, -121.5042679993762 37.03622899969307 0.0))'], ['Calaveras fault zone', 'ID_013376', 'Calaveras fault zone', 'Central Calaveras fault section', '54', 'b', 'California', 'Well Constrained', 'historic', 'Vertical', 'Greater than 5.0 mm/yr', 'Right lateral', 'unspecified', 'A', 'Good', 'N31°W', '156', 'California Geological Survey', nan, '3/4/1999', 'https://earthquake.usgs.gov/cfusion/qfault/show_report_AB_archive.cfm?fault_id=54&section_id=b', 'historic Well Constrained', '54b', '54', 'MULTILINESTRING((-121.501098999972 37.03410499868621 0.0, -121.5015709999751 37.03455099983871 0.0, -121.502160999979 37.03532000001351 0.0, -121.5029109998164 37.03640199971698 0.0, -121.5034489999418 37.03727199982249 0.0))'], ['Calaveras fault zone', 'ID_013377', 'Calaveras fault zone', 'Central Calaveras fault section', '54', 'b', 'California', 'Well Constrained', 'historic', 'Vertical', 'Greater than 5.0 mm/yr', 'Right lateral', 'unspecified', 'A', 'Good', 'N31°W', '156', 'California Geological Survey', nan, '3/4/1999', 'https://earthquake.usgs.gov/cfusion/qfault/show_report_AB_archive.cfm?fault_id=54&section_id=b', 'historic Well Constrained', '54b', '54', 'MULTILINESTRING((-121.5010680000098 37.03130700021305 0.0, -121.5015550000815 37.03186799966524 0.0, -121.5020289997345 37.03236500127488 0.0, -121.5032159994149 37.03354399998214 0.0))'], ['Calaveras fault zone', 'ID_013378', 'Calaveras fault zone', 'Central Calaveras fault section', '54', 'b', 'California', 'Well Constrained', 'historic', 'Vertical', 'Greater than 5.0 mm/yr', 'Right lateral', 'unspecified', 'A', 'Good', 'N31°W', '156', 'California Geological Survey', nan, '3/4/1999', 'https://earthquake.usgs.gov/cfusion/qfault/show_report_AB_archive.cfm?fault_id=54&section_id=b', 'historic Well Constrained', '54b', '54', 'MULTILINESTRING((-121.5010709985862 37.03138399996138 0.0, -121.4996889998104 37.02976199967104 0.0, -121.4990269998365 37.02907600022451 0.0, -121.49839300035 37.02826399976581 0.0, -121.4973870004196 37.02721600131422 0.0, -121.4968520006673 37.02655499970809 0.0, -121.4961010001066 37.02584999967081 0.0, -121.4948130001438 37.02440899925325 0.0, -121.4940619995831 37.02355900020861 0.0, -121.4937260000224 37.02287800035837 0.0, -121.493127000696 37.02195100077066 0.0, -121.4920930002781 37.02067100024013 0.0, -121.4914840000077 37.01978400001654 0.0, -121.4908210002089 37.01901100024795 0.0, -121.4900019998761 37.01793200124645 0.0, -121.488988000448 37.016422999658 0.0, -121.4883490000404 37.0151060003155 0.0, -121.4879409996114 37.0141060002405 0.0, -121.4874639995854 37.01335600033563 0.0, -121.487113999781 37.01255800011955 0.0, -121.4867349996643 37.01180300031539 0.0, -121.486388000233 37.0109810001066 0.0, -121.4859279999255 37.00994300029971 0.0, -121.4856330003727 37.00933399965079 0.0, -121.4854070004169 37.00899799975183 0.0, -121.4852569997307 37.00878000005197 0.0, -121.4852249999437 37.0085820000394 0.0, -121.4851809995628 37.0081009997082 0.0, -121.4849260001929 37.00720600126976 0.0, -121.4843069998768 37.00604200002125 0.0, -121.4835240004274 37.00490400033368 0.0, -121.4827639996458 37.00403000023864 0.0, -121.4820640000371 37.00334500021833 0.0, -121.4805169996082 37.00219100003235 0.0))'], ['Calaveras fault zone', 'ID_013379', 'Calaveras fault zone', 'Central Calaveras fault section', '54', 'b', 'California', 'Well Constrained', 'historic', 'Vertical', 'Greater than 5.0 mm/yr', 'Right lateral', 'unspecified', 'A', 'Good', 'N31°W', '156', 'California Geological Survey', nan, '3/4/1999', 'https://earthquake.usgs.gov/cfusion/qfault/show_report_AB_archive.cfm?fault_id=54&section_id=b', 'historic Well Constrained', '54b', '54', 'MULTILINESTRING((-121.4966280003613 37.02936000122573 0.0, -121.4968819999062 37.02985800030155 0.0, -121.4974389993998 37.03073700014174 0.0, -121.4979040006285 37.03133900002476 0.0, -121.4981699998689 37.03161799991885 0.0, -121.4993729994429 37.0326990003576 0.0, -121.5004350003482 37.03357499991775 0.0, -121.5010669992866 37.0340069998313 0.0))'], ['Calaveras fault zone', 'ID_013380', 'Calaveras fault zone', 'Central Calaveras fault section', '54', 'b', 'California', 'Well Constrained', 'historic', 'Vertical', 'Greater than 5.0 mm/yr', 'Right lateral', 'unspecified', 'A', 'Good', 'N31°W', '156', 'California Geological Survey', nan, '3/4/1999', 'https://earthquake.usgs.gov/cfusion/qfault/show_report_AB_archive.cfm?fault_id=54&section_id=b', 'historic Well Constrained', '54b', '54', 'MULTILINESTRING((-121.4959740007833 37.02824500005122 0.0, -121.4960539993526 37.02837800010495 0.0, -121.4961839999472 37.02856499970569 0.0, -121.4962569997422 37.02866599970889 0.0, -121.4962969999251 37.02873099982459 0.0, -121.4963940000096 37.02892299998486 0.0, -121.4965289997288 37.02918399965971 0.0))'], ['Calaveras fault zone', 'ID_013381', 'Calaveras fault zone', 'Central Calaveras fault section', '54', 'b', 'California', 'Well Constrained', 'historic', 'Vertical', 'Greater than 5.0 mm/yr', 'Right lateral', 'unspecified', 'A', 'Good', 'N31°W', '156', 'California Geological Survey', nan, '3/4/1999', 'https://earthquake.usgs.gov/cfusion/qfault/show_report_AB_archive.cfm?fault_id=54&section_id=b', 'historic Well Constrained', '54b', '54', 'MULTILINESTRING((-121.4862690004073 37.01328299991713 0.0, -121.4864519998071 37.01366300071903 0.0))'], ['Calaveras fault zone', 'ID_013382', 'Calaveras fault zone', 'Central Calaveras fault section', '54', 'b', 'California', 'Well Constrained', 'historic', 'Vertical', 'Greater than 5.0 mm/yr', 'Right lateral', 'unspecified', 'A', 'Good', 'N31°W', '156', 'California Geological Survey', nan, '3/4/1999', 'https://earthquake.usgs.gov/cfusion/qfault/show_report_AB_archive.cfm?fault_id=54&section_id=b', 'historic Well Constrained', '54b', '54', 'MULTILINESTRING((-121.4813219996972 37.00188499929405 0.0, -121.4817629997382 37.00257399979067 0.0, -121.4821419998549 37.00319399991564 0.0, -121.4823269998028 37.00357100008728 0.0))'], ['Calaveras fault zone', 'ID_013383', 'Calaveras fault zone', 'Central Calaveras fault section', '54', 'b', 'California', 'Well Constrained', 'historic', 'Vertical', 'Greater than 5.0 mm/yr', 'Right lateral', 'unspecified', 'A', 'Good', 'N31°W', '156', 'California Geological Survey', nan, '3/4/1999', 'https://earthquake.usgs.gov/cfusion/qfault/show_report_AB_archive.cfm?fault_id=54&section_id=b', 'historic Well Constrained', '54b', '54', 'MULTILINESTRING((-121.4797989995578 37.0000079996594 0.0, -121.4799169995586 37.00023999994036 0.0, -121.4802569993172 37.00072099979216 0.0, -121.4807580014293 37.00131099986235 0.0, -121.4811130003582 37.00166500129384 0.0))'], ['Calaveras fault zone', 'ID_013384', 'Calaveras fault zone', 'Central Calaveras fault section', '54', 'b', 'California', 'Well Constrained', 'historic', 'Vertical', 'Greater than 5.0 mm/yr', 'Right lateral', 'unspecified', 'A', 'Good', 'N31°W', '156', 'California Geological Survey', nan, '3/4/1999', 'https://earthquake.usgs.gov/cfusion/qfault/show_report_AB_archive.cfm?fault_id=54&section_id=b', 'historic Well Constrained', '54b', '54', 'MULTILINESTRING((-121.4804490007345 37.00155900019097 0.0, -121.4806499996776 37.00184500016155 0.0, -121.4807529996098 37.00201700022778 0.0, -121.4808339998006 37.0021889999049 0.0, -121.4808619993897 37.00227200012716 0.0))'], ['Calaveras fault zone', 'ID_013385', 'Calaveras fault zone', 'Central Calaveras fault section', '54', 'b', 'California', 'Well Constrained', 'historic', 'Vertical', 'Greater than 5.0 mm/yr', 'Right lateral', 'unspecified', 'A', 'Good', 'N31°W', '156', 'California Geological Survey', nan, '3/4/1999', 'https://earthquake.usgs.gov/cfusion/qfault/show_report_AB_archive.cfm?fault_id=54&section_id=b', 'historic Well Constrained', '54b', '54', 'MULTILINESTRING((-121.4788040003963 37.00030199971626 0.0, -121.4793729995855 37.00090800074165 0.0, -121.4797240001131 37.00130999978703 0.0, -121.4798379999159 37.0015039997974 0.0, -121.4798889999695 37.0016410003126 0.0))'], ['Calaveras fault zone', 'ID_013386', 'Calaveras fault zone', 'Central Calaveras fault section', '54', 'b', 'California', 'Well Constrained', 'historic', 'Vertical', 'Greater than 5.0 mm/yr', 'Right lateral', 'unspecified', 'A', 'Good', 'N31°W', '156', 'California Geological Survey', nan, '3/4/1999', 'https://earthquake.usgs.gov/cfusion/qfault/show_report_AB_archive.cfm?fault_id=54&section_id=b', 'historic Well Constrained', '54b', '54', 'MULTILINESTRING((-121.4784310001274 36.99994699973703 0.0, -121.4786870002204 37.00019600030016 0.0))'], ['Calaveras fault zone', 'ID_013387', 'Calaveras fault zone', 'Southern Calaveras section', '54', 'c', 'California', 'Well Constrained', 'historic', 'Vertical', 'Greater than 5.0 mm/yr', 'Right lateral', '1:24,000', 'A', 'Good', 'N24°W', '156', 'California Geological Survey', nan, '3/4/1999', 'https://earthquake.usgs.gov/cfusion/qfault/show_report_AB_archive.cfm?fault_id=54&section_id=c', 'historic Well Constrained', '54c', '54', 'MULTILINESTRING((-121.4668849995947 36.98609700014741 0.0, -121.4666750004307 36.9858790000814 0.0, -121.4663349997738 36.98540200005564 0.0, -121.466192000557 36.98509699877989 0.0, -121.4661399997801 36.98496100032248 0.0, -121.4659610005783 36.98452399993469 0.0, -121.4657270002265 36.98376400005161 0.0, -121.465595999807 36.98307299999919 0.0, -121.4655680002179 36.98267699975823 0.0))'], ['Calaveras fault zone', 'ID_013388', 'Calaveras fault zone', 'Southern Calaveras section', '54', 'c', 'California', 'Well Constrained', 'historic', 'Vertical', 'Greater than 5.0 mm/yr', 'Right lateral', '1:24,000', 'A', 'Good', 'N24°W', '156', 'California Geological Survey', nan, '3/4/1999', 'https://earthquake.usgs.gov/cfusion/qfault/show_report_AB_archive.cfm?fault_id=54&section_id=c', 'historic Well Constrained', '54c', '54', 'MULTILINESTRING((-121.4655099995933 36.98258099980257 0.0, -121.4654920000499 36.98233499994633 0.0, -121.4653480001099 36.98195100125875 0.0, -121.4649830002369 36.9812239997979 0.0, -121.4640619997969 36.97958699990443 0.0, -121.4631389997071 36.97783100027713 0.0, -121.4618270003531 36.97490299999227 0.0, -121.4617329997435 36.97475199991238 0.0, -121.460766999996 36.97281300035591 0.0, -121.4604970005576 36.9723799987645 0.0, -121.459857000325 36.9714740003586 0.0, -121.4584809996003 36.96942900131326 0.0, -121.4572319999956 36.96735600018923 0.0, -121.4561710007118 36.9653589986515 0.0, -121.4548430005661 36.96255299985684 0.0, -121.4536250000251 36.96002899995229 0.0, -121.4526980006357 36.95810700022385 0.0, -121.4520680004488 36.95696599992026 0.0, -121.4506800000286 36.95436299992057 0.0, -121.4488480000927 36.95091600007442 0.0, -121.4475450000613 36.94835499872744 0.0, -121.4467650000866 36.94663500072338 0.0, -121.4462339996339 36.94561500029328 0.0, -121.4460069998532 36.9450319997482 0.0, -121.4459070002941 36.94485900069846 0.0, -121.4454269998951 36.94363699867176 0.0, -121.4453460006026 36.94348400024172 0.0, -121.4446410000726 36.94181999988284 0.0, -121.4445880003692 36.94169500031921 0.0, -121.4443880003527 36.94117999995435 0.0, -121.4440369998251 36.94039899979539 0.0, -121.4437159994347 36.93967499976079 0.0))'], ['Calaveras fault zone', 'ID_013389', 'Calaveras fault zone', 'Southern Calaveras section', '54', 'c', 'California', 'Well Constrained', 'historic', 'Vertical', 'Greater than 5.0 mm/yr', 'Right lateral', '1:24,000', 'A', 'Good', 'N24°W', '156', 'California Geological Survey', nan, '3/4/1999', 'https://earthquake.usgs.gov/cfusion/qfault/show_report_AB_archive.cfm?fault_id=54&section_id=c', 'historic Well Constrained', '54c', '54', 'MULTILINESTRING((-121.4546229995597 36.93729499991476 0.0, -121.4553079999981 36.93569400033216 0.0, -121.4560660002315 36.93376599972154 0.0, -121.4568130005943 36.93162300035105 0.0))'], ['Calaveras fault zone', 'ID_013390', 'Calaveras fault zone', 'Southern Calaveras section', '54', 'c', 'California', 'Well Constrained', 'historic', 'Vertical', 'Greater than 5.0 mm/yr', 'Right lateral', '1:24,000', 'A', 'Good', 'N24°W', '156', 'California Geological Survey', nan, '3/4/1999', 'https://earthquake.usgs.gov/cfusion/qfault/show_report_AB_archive.cfm?fault_id=54&section_id=c', 'historic Well Constrained', '54c', '54', 'MULTILINESTRING((-121.4510790002368 36.94104200027042 0.0, -121.4526039991277 36.93930200029498 0.0, -121.4536569998122 36.93803400026756 0.0, -121.4541179999447 36.93738000024041 0.0, -121.454355999596 36.93692400069482 0.0, -121.4544300001142 36.93667799976916 0.0))'], ['Calaveras fault zone', 'ID_013391', 'Calaveras fault zone', 'Southern Calaveras section', '54', 'c', 'California', 'Well Constrained', 'historic', 'Vertical', 'Greater than 5.0 mm/yr', 'Right lateral', '1:24,000', 'A', 'Good', 'N24°W', '156', 'California Geological Survey', nan, '3/4/1999', 'https://earthquake.usgs.gov/cfusion/qfault/show_report_AB_archive.cfm?fault_id=54&section_id=c', 'historic Well Constrained', '54c', '54', 'MULTILINESTRING((-121.4509079996342 36.94409299968751 0.0, -121.4508430002352 36.94316699968726 0.0, -121.4508840002431 36.94262100026032 0.0, -121.4510020002439 36.94204600015282 0.0, -121.4513269999339 36.94101899970046 0.0))'], ['Calaveras fault zone', 'ID_013392', 'Calaveras fault zone', 'Southern Calaveras section', '54', 'c', 'California', 'Well Constrained', 'historic', 'Vertical', 'Greater than 5.0 mm/yr', 'Right lateral', '1:24,000', 'A', 'Good', 'N24°W', '156', 'California Geological Survey', nan, '3/4/1999', 'https://earthquake.usgs.gov/cfusion/qfault/show_report_AB_archive.cfm?fault_id=54&section_id=c', 'historic Well Constrained', '54c', '54', 'MULTILINESTRING((-121.4480279999351 36.94462099964574 0.0, -121.4494799999294 36.9428510000935 0.0, -121.4502299997668 36.94197000124236 0.0, -121.4506039998606 36.94157499982728 0.0))'], ['Calaveras fault zone', 'ID_013393', 'Calaveras fault zone', 'Southern Calaveras section', '54', 'c', 'California', 'Well Constrained', 'historic', 'Vertical', 'Greater than 5.0 mm/yr', 'Right lateral', '1:24,000', 'A', 'Good', 'N24°W', '156', 'California Geological Survey', nan, '3/4/1999', 'https://earthquake.usgs.gov/cfusion/qfault/show_report_AB_archive.cfm?fault_id=54&section_id=c', 'historic Well Constrained', '54c', '54', 'MULTILINESTRING((-121.4472780000976 36.94504799986459 0.0, -121.446192999626 36.94317899970959 0.0, -121.4454479998115 36.94160000123171 0.0, -121.4446849995553 36.93979999976616 0.0, -121.444113999818 36.93849000035129 0.0))'], ['Calaveras fault zone', 'ID_013394', 'Calaveras fault zone', 'Southern Calaveras section', '54', 'c', 'California', 'Well Constrained', 'historic', 'Vertical', 'Greater than 5.0 mm/yr', 'Right lateral', '1:24,000', 'A', 'Good', 'N24°W', '156', 'California Geological Survey', nan, '3/4/1999', 'https://earthquake.usgs.gov/cfusion/qfault/show_report_AB_archive.cfm?fault_id=54&section_id=c', 'historic Well Constrained', '54c', '54', 'MULTILINESTRING((-121.4440269997793 36.94116399974366 0.0, -121.4436919991452 36.94041000009592 0.0, -121.4433949999426 36.93983999992565 0.0, -121.4431699998118 36.9393709999488 0.0, -121.443127999979 36.9391770001907 0.0, -121.4431320001769 36.93906600018466 0.0))'], ['Calaveras fault zone', 'ID_013395', 'Calaveras fault zone', 'Southern Calaveras section', '54', 'c', 'California', 'Well Constrained', 'historic', 'Vertical', 'Greater than 5.0 mm/yr', 'Right lateral', '1:24,000', 'A', 'Good', 'N24°W', '156', 'California Geological Survey', nan, '3/4/1999', 'https://earthquake.usgs.gov/cfusion/qfault/show_report_AB_archive.cfm?fault_id=54&section_id=c', 'historic Well Constrained', '54c', '54', 'MULTILINESTRING((-121.4434579996918 36.93932000124087 0.0, -121.4432170005657 36.93891299975604 0.0, -121.4427979993678 36.93834299987599 0.0, -121.4424569997842 36.93786999997335 0.0, -121.4420040000477 36.93702299995886 0.0, -121.4415440006384 36.9361770000782 0.0, -121.4412939985966 36.93552399869724 0.0))'], ['Calaveras fault zone', 'ID_013396', 'Calaveras fault zone', 'Southern Calaveras section', '54', 'c', 'California', 'Well Constrained', 'historic', 'Vertical', 'Greater than 5.0 mm/yr', 'Right lateral', '1:24,000', 'A', 'Good', 'N24°W', '156', 'California Geological Survey', nan, '3/4/1999', 'https://earthquake.usgs.gov/cfusion/qfault/show_report_AB_archive.cfm?fault_id=54&section_id=c', 'historic Well Constrained', '54c', '54', 'MULTILINESTRING((-121.4420709999948 36.93657700035876 0.0, -121.4420760000177 36.93635799970588 0.0, -121.4420529995531 36.9362280001715 0.0, -121.4419769993852 36.93600700023867 0.0, -121.4418679996052 36.93574600024968 0.0, -121.4417960014318 36.93561900033339 0.0, -121.4416509998702 36.93542399869877 0.0, -121.4415499995879 36.93531399991315 0.0, -121.4413510002946 36.93513199973305 0.0))'], ['Calaveras fault zone', 'ID_013397', 'Calaveras fault zone', 'Southern Calaveras section', '54', 'c', 'California', 'Well Constrained', 'historic', 'Vertical', 'Greater than 5.0 mm/yr', 'Right lateral', '1:24,000', 'A', 'Good', 'N24°W', '156', 'California Geological Survey', nan, '3/4/1999', 'https://earthquake.usgs.gov/cfusion/qfault/show_report_AB_archive.cfm?fault_id=54&section_id=c', 'historic Well Constrained', '54c', '54', 'MULTILINESTRING((-121.4412099998293 36.93534199973663 0.0, -121.4409950006425 36.93495100006577 0.0, -121.440783000032 36.93445999999778 0.0, -121.440551999155 36.93387499977973 0.0, -121.4402150006678 36.93325300012783 0.0, -121.4396619995755 36.93234399997711 0.0, -121.4394039998326 36.93183599934491 0.0, -121.4392359996032 36.93141300015346 0.0))'], ['Calaveras fault zone', 'ID_013398', 'Calaveras fault zone', 'Southern Calaveras section', '54', 'c', 'California', 'Well Constrained', 'historic', 'Vertical', 'Greater than 5.0 mm/yr', 'Right lateral', '1:24,000', 'A', 'Good', 'N24°W', '156', 'California Geological Survey', nan, '3/4/1999', 'https://earthquake.usgs.gov/cfusion/qfault/show_report_AB_archive.cfm?fault_id=54&section_id=c', 'historic Well Constrained', '54c', '54', 'MULTILINESTRING((-121.4402370004091 36.93265899979932 0.0, -121.439649000055 36.93131299978767 0.0, -121.4396199997427 36.93119299874464 0.0, -121.4394349997948 36.93061099872541 0.0, -121.4393479997562 36.93038800131477 0.0, -121.4392170002349 36.93015099987709 0.0, -121.438952999746 36.92975399979609 0.0, -121.4387660001482 36.9293619998797 0.0, -121.4382869995741 36.92808200011068 0.0))'], ['Calaveras fault zone', 'ID_013399', 'Calaveras fault zone', 'Southern Calaveras section', '54', 'c', 'California', 'Well Constrained', 'historic', 'Vertical', 'Greater than 5.0 mm/yr', 'Right lateral', '1:24,000', 'A', 'Good', 'N24°W', '156', 'California Geological Survey', nan, '3/4/1999', 'https://earthquake.usgs.gov/cfusion/qfault/show_report_AB_archive.cfm?fault_id=54&section_id=c', 'historic Well Constrained', '54c', '54', 'MULTILINESTRING((-121.4395689996891 36.93151000028242 0.0, -121.4392410014227 36.93106799970129 0.0))'], ['Calaveras fault zone', 'ID_013400', 'Calaveras fault zone', 'Southern Calaveras section', '54', 'c', 'California', 'Well Constrained', 'historic', 'Vertical', 'Greater than 5.0 mm/yr', 'Right lateral', '1:24,000', 'A', 'Good', 'N24°W', '156', 'California Geological Survey', nan, '3/4/1999', 'https://earthquake.usgs.gov/cfusion/qfault/show_report_AB_archive.cfm?fault_id=54&section_id=c', 'historic Well Constrained', '54c', '54', 'MULTILINESTRING((-121.4390549998532 36.93109599964845 0.0, -121.438796999212 36.93032000028079 0.0, -121.4386549998201 36.92978899871608 0.0, -121.4385979999187 36.92938000030106 0.0, -121.4386120001624 36.92917499975893 0.0))'], ['Calaveras fault zone', 'ID_013401', 'Calaveras fault zone', 'Southern Calaveras section', '54', 'c', 'California', 'Well Constrained', 'historic', 'Vertical', 'Greater than 5.0 mm/yr', 'Right lateral', '1:24,000', 'A', 'Good', 'N24°W', '156', 'California Geological Survey', nan, '3/4/1999', 'https://earthquake.usgs.gov/cfusion/qfault/show_report_AB_archive.cfm?fault_id=54&section_id=c', 'historic Well Constrained', '54c', '54', 'MULTILINESTRING((-121.4381979998856 36.92792500004217 0.0, -121.4370170000529 36.9255639997503 0.0, -121.4362699996902 36.92422700131011 0.0, -121.4357480003567 36.92329300030962 0.0, -121.4354579999285 36.92267699995946 0.0, -121.4350470000248 36.92163999874421 0.0, -121.4348269999168 36.92097299990957 0.0, -121.4346930000224 36.92065800135277 0.0, -121.4344820001352 36.92025599999818 0.0, -121.4342559992811 36.91966899979641 0.0, -121.4338580006945 36.91856499974399 0.0, -121.4336629998025 36.91810099966671 0.0, -121.4322439994201 36.91487199983158 0.0, -121.4321440007593 36.91469200067688 0.0, -121.4306430003612 36.91108300034644 0.0, -121.4301300003502 36.9096509999998 0.0, -121.4293170007636 36.90737699967273 0.0, -121.4284839992888 36.90503800035238 0.0, -121.4277019996643 36.90291800008509 0.0, -121.4270779993253 36.90133200126544 0.0, -121.426982999789 36.90118800012158 0.0, -121.4260400014043 36.89901000023863 0.0, -121.4259079993632 36.89882299968029 0.0, -121.4258730001015 36.89714199991107 0.0, -121.4256870003286 36.8960560003548 0.0, -121.4254779991929 36.89540300020222 0.0, -121.4251039999974 36.89437700007292 0.0, -121.4248570001252 36.89364600015319 0.0, -121.4246880000708 36.8928900002894 0.0, -121.4244269999549 36.89209600022603 0.0, -121.4239540001269 36.89080100013122 0.0, -121.42299900025 36.88856100035598 0.0, -121.4222809993013 36.8872370002764 0.0, -121.4217389998763 36.88641999981579 0.0, -121.4212879997896 36.88575799988836 0.0, -121.4209940000617 36.88521500009334 0.0, -121.4206659999987 36.88455100015165 0.0, -121.4202519997219 36.88371800035749 0.0, -121.4196550000453 36.88258100021303 0.0, -121.4189949997212 36.8813730003391 0.0, -121.4184510006465 36.8805209996903 0.0, -121.4179349993641 36.87979799974229 0.0, -121.4175479997498 36.87912100127192 0.0, -121.4171960002956 36.87838499987487 0.0, -121.416804999585 36.87749200032878 0.0, -121.4163290002823 36.87650000030568 0.0, -121.4154110002154 36.87495500012674 0.0))'], ['Calaveras fault zone', 'ID_013402', 'Calaveras fault zone', 'Southern Calaveras section', '54', 'c', 'California', 'Well Constrained', 'historic', 'Vertical', 'Greater than 5.0 mm/yr', 'Right lateral', '1:24,000', 'A', 'Good', 'N24°W', '156', 'California Geological Survey', nan, '3/4/1999', 'https://earthquake.usgs.gov/cfusion/qfault/show_report_AB_archive.cfm?fault_id=54&section_id=c', 'historic Well Constrained', '54c', '54', 'MULTILINESTRING((-121.4152250004425 36.87527800073595 0.0, -121.4159099999826 36.87656799973922 0.0, -121.4164349996892 36.87758599997853 0.0, -121.4167319997901 36.87827700124441 0.0))'], ['Calaveras fault zone', 'ID_013403', 'Calaveras fault zone', 'Southern Calaveras section', '54', 'c', 'California', 'Well Constrained', 'historic', 'Vertical', 'Greater than 5.0 mm/yr', 'Right lateral', '1:24,000', 'A', 'Good', 'N24°W', '156', 'California Geological Survey', nan, '3/4/1999', 'https://earthquake.usgs.gov/cfusion/qfault/show_report_AB_archive.cfm?fault_id=54&section_id=c', 'historic Well Constrained', '54c', '54', 'MULTILINESTRING((-121.4154110002154 36.87495500012674 0.0, -121.4148280007825 36.87349900124875 0.0, -121.4144710004071 36.87194200027994 0.0, -121.413829001423 36.86981100023099 0.0, -121.4131800000713 36.86758899979004 0.0, -121.4127780003884 36.86619399996409 0.0, -121.4124999996557 36.86502900006635 0.0, -121.4120510001171 36.86386099976311 0.0, -121.4110030003539 36.86139499964136 0.0, -121.410325999413 36.86011899998694 0.0, -121.4091639998469 36.85814699991053 0.0))'], ['Calaveras fault zone', 'ID_013404', 'Calaveras fault zone', 'Southern Calaveras section', '54', 'c', 'California', 'Well Constrained', 'historic', 'Vertical', 'Greater than 5.0 mm/yr', 'Right lateral', '1:24,000', 'A', 'Good', 'N24°W', '156', 'California Geological Survey', nan, '3/4/1999', 'https://earthquake.usgs.gov/cfusion/qfault/show_report_AB_archive.cfm?fault_id=54&section_id=c', 'historic Well Constrained', '54c', '54', 'MULTILINESTRING((-121.4047929997953 36.83483000006395 0.0, -121.4053359999435 36.83590000025436 0.0, -121.4057500002203 36.83691600004931 0.0, -121.4062039997818 36.83836300022582 0.0, -121.4065319998448 36.84034499983039 0.0, -121.4066419985514 36.8425520001099 0.0, -121.4067629998235 36.84376999976746 0.0, -121.4067239985671 36.84467900126882 0.0, -121.4064709997455 36.84577999976516 0.0, -121.4062370002921 36.84656200029529 0.0, -121.4061360000097 36.84690599975318 0.0, -121.4061429996824 36.84730600011896 0.0, -121.4062389999418 36.84849099984635 0.0, -121.4063289985569 36.84935900123833 0.0, -121.4066230000814 36.85062700020667 0.0, -121.4074599999575 36.85356699987209 0.0, -121.4077799996247 36.85474999990307 0.0, -121.4080719997027 36.85576299990282 0.0, -121.4090360006987 36.85785799995549 0.0))'], ['Calaveras fault zone', 'ID_013405', 'Calaveras fault zone', 'Southern Calaveras section', '54', 'c', 'California', 'Well Constrained', 'historic', 'Vertical', 'Greater than 5.0 mm/yr', 'Right lateral', '1:24,000', 'A', 'Good', 'N24°W', '156', 'California Geological Survey', nan, '3/4/1999', 'https://earthquake.usgs.gov/cfusion/qfault/show_report_AB_archive.cfm?fault_id=54&section_id=c', 'historic Well Constrained', '54c', '54', 'MULTILINESTRING((-121.4009940002043 36.82659299973355 0.0, -121.4032129997545 36.83124299971252 0.0, -121.4047180003506 36.83459900015217 0.0))'], ['Calaveras fault zone', 'ID_013406', 'Calaveras fault zone', 'Southern Calaveras section', '54', 'c', 'California', 'Well Constrained', 'historic', 'Vertical', 'Greater than 5.0 mm/yr', 'Right lateral', '1:24,000', 'A', 'Good', 'N24°W', '156', 'California Geological Survey', nan, '3/4/1999', 'https://earthquake.usgs.gov/cfusion/qfault/show_report_AB_archive.cfm?fault_id=54&section_id=c', 'historic Well Constrained', '54c', '54', 'MULTILINESTRING((-121.3994239993109 36.82169800021792 0.0, -121.3996750002793 36.82129000030317 0.0))']]\n"
     ]
    },
    {
     "name": "stderr",
     "output_type": "stream",
     "text": [
      "Writing File...: 100%|███████████████████████████████████████████████████████████████████████████████████████████████████████████| 56/56 [00:00<00:00, 45902.10it/s]\n"
     ]
    }
   ],
   "source": [
    "#generate filtered files\n",
    "filter_name = \"Calaveras fault zone\"\n",
    "filtered_records = list(filter(lambda record: (record.name == filter_name), records))  \n",
    "filtered_records = list(map(get_all_data, filtered_records))\n",
    "filtered_records = list(filter(lambda record: (record[8] == \"historic\"), filtered_records))  \n",
    "print(filtered_records)\n",
    "filename = f'{filter_name.replace(\" \", \"\")}.csv'\n",
    "with open(filename, 'w', newline=\"\") as file:\n",
    "    csvwriter = csv.writer(file)\n",
    "    header = get_all_headers(records[0])\n",
    "    csvwriter.writerow(header)\n",
    "    for record in tqdm (filtered_records, desc=\"Writing File...\"):\n",
    "        csvwriter.writerow(record)\n",
    "    # csvwriter.writerows(data) # 5. write the rest of the data"
   ]
  },
  {
   "cell_type": "code",
   "execution_count": null,
   "id": "01b993e2-3b66-46e6-9030-15442ff4d020",
   "metadata": {},
   "outputs": [],
   "source": []
  }
 ],
 "metadata": {
  "kernelspec": {
   "display_name": "Python 3 (ipykernel)",
   "language": "python",
   "name": "python3"
  },
  "language_info": {
   "codemirror_mode": {
    "name": "ipython",
    "version": 3
   },
   "file_extension": ".py",
   "mimetype": "text/x-python",
   "name": "python",
   "nbconvert_exporter": "python",
   "pygments_lexer": "ipython3",
   "version": "3.13.2"
  }
 },
 "nbformat": 4,
 "nbformat_minor": 5
}
