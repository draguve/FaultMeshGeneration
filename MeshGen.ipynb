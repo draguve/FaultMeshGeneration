{
 "cells": [
  {
   "cell_type": "code",
   "execution_count": 80,
   "id": "e2ae65ff-78b8-4c31-b2c9-15878078ba36",
   "metadata": {
    "ExecuteTime": {
     "end_time": "2024-05-08T23:25:59.616825100Z",
     "start_time": "2024-05-08T23:25:59.437777100Z"
    }
   },
   "outputs": [],
   "source": [
    "import folium\n",
    "import zipfile\n",
    "import io\n",
    "\n",
    "from fastkml import kml\n",
    "\n",
    "import pandas as pd\n",
    "from bs4 import BeautifulSoup\n",
    "from io import StringIO"
   ]
  },
  {
   "cell_type": "code",
   "execution_count": 2,
   "id": "002a8b0d-f7ce-43cf-872e-c3b6e706aba4",
   "metadata": {
    "ExecuteTime": {
     "end_time": "2024-05-08T23:25:59.622822700Z",
     "start_time": "2024-05-08T23:25:59.617829100Z"
    }
   },
   "outputs": [],
   "source": [
    "# read KML content \n",
    "kmz = zipfile.ZipFile(\"qfaults.kmz\", 'r')  # extract zip file first, then read kmz file inside the extracted folder\n",
    "kml_content = kmz.open('doc.kml', 'r').read()  # kml content\n",
    "k = kml.KML()\n",
    "k.from_string(kml_content)"
   ]
  },
  {
   "cell_type": "code",
   "execution_count": 65,
   "id": "24dad904-6091-4340-b806-5fe7216c176e",
   "metadata": {},
   "outputs": [],
   "source": [
    "docs = list(k.features())\n",
    "folders=[]\n",
    "for d in docs:\n",
    "    folders.extend(list(d.features()))\n",
    "records = []\n",
    "for f in folders:\n",
    "    records.extend(list(f.features()))\n",
    "geoms = [element.geometry for element in records]"
   ]
  },
  {
   "cell_type": "code",
   "execution_count": 78,
   "id": "15747ba8-0990-41c1-99c3-8a7518cb8e6f",
   "metadata": {},
   "outputs": [
    {
     "name": "stdout",
     "output_type": "stream",
     "text": [
      "Historical (150 years)\n",
      "FeatureLayer0\n"
     ]
    }
   ],
   "source": [
    "# print(dir(folders[0]))\n",
    "print(folders[0].name)\n",
    "print(folders[0].id)"
   ]
  },
  {
   "cell_type": "code",
   "execution_count": 90,
   "id": "5bbd920c-4314-4597-805b-974437059575",
   "metadata": {},
   "outputs": [
    {
     "name": "stdout",
     "output_type": "stream",
     "text": [
      "San Andreas fault zone\n",
      "ID_00000\n"
     ]
    },
    {
     "data": {
      "text/html": [
       "<div>\n",
       "<style scoped>\n",
       "    .dataframe tbody tr th:only-of-type {\n",
       "        vertical-align: middle;\n",
       "    }\n",
       "\n",
       "    .dataframe tbody tr th {\n",
       "        vertical-align: top;\n",
       "    }\n",
       "\n",
       "    .dataframe thead th {\n",
       "        text-align: right;\n",
       "    }\n",
       "</style>\n",
       "<table border=\"1\" class=\"dataframe\">\n",
       "  <thead>\n",
       "    <tr style=\"text-align: right;\">\n",
       "      <th></th>\n",
       "      <th>0</th>\n",
       "      <th>1</th>\n",
       "    </tr>\n",
       "  </thead>\n",
       "  <tbody>\n",
       "    <tr>\n",
       "      <th>0</th>\n",
       "      <td>Fault Name</td>\n",
       "      <td>San Andreas fault zone</td>\n",
       "    </tr>\n",
       "    <tr>\n",
       "      <th>1</th>\n",
       "      <td>Section Name</td>\n",
       "      <td>Shelter Cove Section</td>\n",
       "    </tr>\n",
       "    <tr>\n",
       "      <th>2</th>\n",
       "      <td>Fault ID</td>\n",
       "      <td>1</td>\n",
       "    </tr>\n",
       "    <tr>\n",
       "      <th>3</th>\n",
       "      <td>Section ID</td>\n",
       "      <td>a</td>\n",
       "    </tr>\n",
       "    <tr>\n",
       "      <th>4</th>\n",
       "      <td>Location</td>\n",
       "      <td>California</td>\n",
       "    </tr>\n",
       "    <tr>\n",
       "      <th>5</th>\n",
       "      <td>Linetype</td>\n",
       "      <td>Inferred</td>\n",
       "    </tr>\n",
       "    <tr>\n",
       "      <th>6</th>\n",
       "      <td>Age</td>\n",
       "      <td>historic</td>\n",
       "    </tr>\n",
       "    <tr>\n",
       "      <th>7</th>\n",
       "      <td>Dip Direction</td>\n",
       "      <td>Vertical</td>\n",
       "    </tr>\n",
       "    <tr>\n",
       "      <th>8</th>\n",
       "      <td>Slip Rate(mm/year)</td>\n",
       "      <td>Greater than 5.0 mm/yr</td>\n",
       "    </tr>\n",
       "    <tr>\n",
       "      <th>9</th>\n",
       "      <td>Slip Sense</td>\n",
       "      <td>Right lateral</td>\n",
       "    </tr>\n",
       "    <tr>\n",
       "      <th>10</th>\n",
       "      <td>Mapped Scale</td>\n",
       "      <td>unspecified</td>\n",
       "    </tr>\n",
       "    <tr>\n",
       "      <th>11</th>\n",
       "      <td>Fault Class</td>\n",
       "      <td>A</td>\n",
       "    </tr>\n",
       "    <tr>\n",
       "      <th>12</th>\n",
       "      <td>Mapping Certainty</td>\n",
       "      <td>Good</td>\n",
       "    </tr>\n",
       "    <tr>\n",
       "      <th>13</th>\n",
       "      <td>Average Strike</td>\n",
       "      <td>N12°W</td>\n",
       "    </tr>\n",
       "    <tr>\n",
       "      <th>14</th>\n",
       "      <td>Total Fault Length (km)</td>\n",
       "      <td>1082</td>\n",
       "    </tr>\n",
       "    <tr>\n",
       "      <th>15</th>\n",
       "      <td>Cooperator</td>\n",
       "      <td>California Geological Survey</td>\n",
       "    </tr>\n",
       "    <tr>\n",
       "      <th>16</th>\n",
       "      <td>Associated Earthquake</td>\n",
       "      <td>San Francisco earthquake</td>\n",
       "    </tr>\n",
       "    <tr>\n",
       "      <th>17</th>\n",
       "      <td>Date of Last Review</td>\n",
       "      <td>12/10/2002</td>\n",
       "    </tr>\n",
       "    <tr>\n",
       "      <th>18</th>\n",
       "      <td>Fault url</td>\n",
       "      <td>https://earthquake.usgs.gov/cfusion/qfault/sho...</td>\n",
       "    </tr>\n",
       "    <tr>\n",
       "      <th>19</th>\n",
       "      <td>symbology</td>\n",
       "      <td>historic Inferred</td>\n",
       "    </tr>\n",
       "    <tr>\n",
       "      <th>20</th>\n",
       "      <td>Citation ID</td>\n",
       "      <td>1a</td>\n",
       "    </tr>\n",
       "    <tr>\n",
       "      <th>21</th>\n",
       "      <td>Fault ID Number</td>\n",
       "      <td>1</td>\n",
       "    </tr>\n",
       "  </tbody>\n",
       "</table>\n",
       "</div>"
      ],
      "text/plain": [
       "                          0                                                  1\n",
       "0                Fault Name                             San Andreas fault zone\n",
       "1              Section Name                               Shelter Cove Section\n",
       "2                  Fault ID                                                  1\n",
       "3                Section ID                                                  a\n",
       "4                  Location                                         California\n",
       "5                  Linetype                                           Inferred\n",
       "6                       Age                                           historic\n",
       "7             Dip Direction                                           Vertical\n",
       "8        Slip Rate(mm/year)                             Greater than 5.0 mm/yr\n",
       "9                Slip Sense                                      Right lateral\n",
       "10             Mapped Scale                                        unspecified\n",
       "11              Fault Class                                                  A\n",
       "12        Mapping Certainty                                               Good\n",
       "13           Average Strike                                              N12°W\n",
       "14  Total Fault Length (km)                                               1082\n",
       "15               Cooperator                       California Geological Survey\n",
       "16    Associated Earthquake                           San Francisco earthquake\n",
       "17      Date of Last Review                                         12/10/2002\n",
       "18                Fault url  https://earthquake.usgs.gov/cfusion/qfault/sho...\n",
       "19                symbology                                  historic Inferred\n",
       "20              Citation ID                                                 1a\n",
       "21          Fault ID Number                                                  1"
      ]
     },
     "execution_count": 90,
     "metadata": {},
     "output_type": "execute_result"
    }
   ],
   "source": [
    "print(records[0].name)\n",
    "# print(records[0].description)\n",
    "print(records[0].id)\n",
    "soup = BeautifulSoup(records[1].description, 'html.parser')\n",
    "tables = pd.read_html(StringIO(str(soup)))\n",
    "tables[1]"
   ]
  },
  {
   "cell_type": "code",
   "execution_count": 20,
   "id": "e2f12cc6-32cf-4f5b-8ff8-eb67fde45cfd",
   "metadata": {
    "ExecuteTime": {
     "end_time": "2024-05-08T23:24:42.880749800Z",
     "start_time": "2024-05-08T23:24:42.657076700Z"
    }
   },
   "outputs": [
    {
     "name": "stdout",
     "output_type": "stream",
     "text": [
      "2107\n",
      "112527\n"
     ]
    }
   ],
   "source": [
    "names = [element.name for element in records]\n",
    "print(len(set(names)))\n",
    "print(len(name))"
   ]
  },
  {
   "cell_type": "code",
   "execution_count": null,
   "id": "a50525ba0560d9bc",
   "metadata": {
    "collapsed": false,
    "jupyter": {
     "outputs_hidden": false
    }
   },
   "outputs": [],
   "source": [
    "geoms = [element.geometry for element in records]  # extract geometry"
   ]
  },
  {
   "cell_type": "code",
   "execution_count": 24,
   "id": "72595223-5c02-41db-ae21-2d66c87cf2b8",
   "metadata": {},
   "outputs": [
    {
     "data": {
      "text/plain": [
       "['__class__',\n",
       " '__delattr__',\n",
       " '__dict__',\n",
       " '__dir__',\n",
       " '__doc__',\n",
       " '__eq__',\n",
       " '__format__',\n",
       " '__ge__',\n",
       " '__geo_interface__',\n",
       " '__getattribute__',\n",
       " '__getstate__',\n",
       " '__gt__',\n",
       " '__hash__',\n",
       " '__init__',\n",
       " '__init_subclass__',\n",
       " '__le__',\n",
       " '__len__',\n",
       " '__lt__',\n",
       " '__module__',\n",
       " '__ne__',\n",
       " '__new__',\n",
       " '__reduce__',\n",
       " '__reduce_ex__',\n",
       " '__repr__',\n",
       " '__setattr__',\n",
       " '__sizeof__',\n",
       " '__str__',\n",
       " '__subclasshook__',\n",
       " '__weakref__',\n",
       " '_coordinates',\n",
       " '_geoms',\n",
       " '_type',\n",
       " 'bounds',\n",
       " 'geom_type',\n",
       " 'geoms',\n",
       " 'to_wkt',\n",
       " 'wkt']"
      ]
     },
     "execution_count": 24,
     "metadata": {},
     "output_type": "execute_result"
    }
   ],
   "source": [
    "dir(geoms[0])"
   ]
  },
  {
   "cell_type": "code",
   "execution_count": 35,
   "id": "cbf59012-779b-4287-9e03-2676d22d37f3",
   "metadata": {},
   "outputs": [
    {
     "data": {
      "text/plain": [
       "'MULTILINESTRING((-124.090694000324 40.11756400000441 0.0, -124.0905649995543 40.11569200027037 0.0, -124.0904559997744 40.11512000009119 0.0, -124.0901240004117 40.11466500032259 0.0, -124.089893000433 40.11393100124901 0.0, -124.0898769996411 40.1128669998052 0.0, -124.0898520004251 40.1112709997484 0.0, -124.0901279997113 40.10903199974997 0.0, -124.0894950000497 40.1031160001442 0.0, -124.0887710001515 40.10135000029333 0.0, -124.0873430004466 40.09905999987495 0.0, -124.0845850000479 40.09323699970534 0.0, -124.0819189997106 40.08657599997652 0.0, -124.0716099999854 40.06145300125832 0.0))'"
      ]
     },
     "execution_count": 35,
     "metadata": {},
     "output_type": "execute_result"
    }
   ],
   "source": [
    "geoms[0].wkt"
   ]
  },
  {
   "cell_type": "code",
   "execution_count": 33,
   "id": "f466cac7-dfe6-4ef1-8082-ee82457f1dac",
   "metadata": {},
   "outputs": [],
   "source": [
    "data = [item.geom_type for item in geoms]"
   ]
  },
  {
   "cell_type": "code",
   "execution_count": 34,
   "id": "65ab00f8-6552-4759-bc60-c8228f653565",
   "metadata": {},
   "outputs": [
    {
     "data": {
      "text/plain": [
       "{'MultiLineString'}"
      ]
     },
     "execution_count": 34,
     "metadata": {},
     "output_type": "execute_result"
    }
   ],
   "source": [
    "set(data)"
   ]
  }
 ],
 "metadata": {
  "kernelspec": {
   "display_name": "Python 3 (ipykernel)",
   "language": "python",
   "name": "python3"
  },
  "language_info": {
   "codemirror_mode": {
    "name": "ipython",
    "version": 3
   },
   "file_extension": ".py",
   "mimetype": "text/x-python",
   "name": "python",
   "nbconvert_exporter": "python",
   "pygments_lexer": "ipython3",
   "version": "3.12.3"
  }
 },
 "nbformat": 4,
 "nbformat_minor": 5
}
