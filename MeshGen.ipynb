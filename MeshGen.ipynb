{
 "cells": [
  {
   "cell_type": "code",
   "execution_count": 135,
   "id": "e2ae65ff-78b8-4c31-b2c9-15878078ba36",
   "metadata": {
    "ExecuteTime": {
     "end_time": "2024-05-08T23:25:59.616825100Z",
     "start_time": "2024-05-08T23:25:59.437777100Z"
    }
   },
   "outputs": [],
   "source": [
    "import folium\n",
    "import zipfile\n",
    "import io\n",
    "\n",
    "from fastkml import kml\n",
    "\n",
    "import pandas as pd\n",
    "from io import StringIO\n",
    "\n",
    "import csv\n",
    "from tqdm import tqdm"
   ]
  },
  {
   "cell_type": "code",
   "execution_count": 2,
   "id": "002a8b0d-f7ce-43cf-872e-c3b6e706aba4",
   "metadata": {
    "ExecuteTime": {
     "end_time": "2024-05-08T23:25:59.622822700Z",
     "start_time": "2024-05-08T23:25:59.617829100Z"
    }
   },
   "outputs": [],
   "source": [
    "# read KML content \n",
    "kmz = zipfile.ZipFile(\"qfaults.kmz\", 'r')  # extract zip file first, then read kmz file inside the extracted folder\n",
    "kml_content = kmz.open('doc.kml', 'r').read()  # kml content\n",
    "k = kml.KML()\n",
    "k.from_string(kml_content)"
   ]
  },
  {
   "cell_type": "code",
   "execution_count": 65,
   "id": "24dad904-6091-4340-b806-5fe7216c176e",
   "metadata": {},
   "outputs": [],
   "source": [
    "docs = list(k.features())\n",
    "folders=[]\n",
    "for d in docs:\n",
    "    folders.extend(list(d.features()))\n",
    "records = []\n",
    "for f in folders:\n",
    "    records.extend(list(f.features()))\n",
    "geoms = [element.geometry for element in records]"
   ]
  },
  {
   "cell_type": "code",
   "execution_count": 78,
   "id": "15747ba8-0990-41c1-99c3-8a7518cb8e6f",
   "metadata": {},
   "outputs": [
    {
     "name": "stdout",
     "output_type": "stream",
     "text": [
      "Historical (150 years)\n",
      "FeatureLayer0\n"
     ]
    }
   ],
   "source": [
    "# print(dir(folders[0]))\n",
    "print(folders[0].name)\n",
    "print(folders[0].id)"
   ]
  },
  {
   "cell_type": "code",
   "execution_count": 20,
   "id": "e2f12cc6-32cf-4f5b-8ff8-eb67fde45cfd",
   "metadata": {
    "ExecuteTime": {
     "end_time": "2024-05-08T23:24:42.880749800Z",
     "start_time": "2024-05-08T23:24:42.657076700Z"
    }
   },
   "outputs": [
    {
     "name": "stdout",
     "output_type": "stream",
     "text": [
      "2107\n",
      "112527\n"
     ]
    }
   ],
   "source": [
    "names = [element.name for element in records]\n",
    "print(len(set(names)))\n",
    "print(len(name))"
   ]
  },
  {
   "cell_type": "code",
   "execution_count": 130,
   "id": "5bbd920c-4314-4597-805b-974437059575",
   "metadata": {},
   "outputs": [
    {
     "name": "stdout",
     "output_type": "stream",
     "text": [
      "['Name', 'ID', 'Fault Name', 'Section Name', 'Fault ID', 'Section ID', 'Location', 'Linetype', 'Age', 'Dip Direction', 'Slip Rate(mm/year)', 'Slip Sense', 'Mapped Scale', 'Fault Class', 'Mapping Certainty', 'Average Strike', 'Total Fault Length (km)', 'Cooperator', 'Associated Earthquake', 'Date of Last Review', 'Fault url', 'symbology', 'Citation ID', 'Fault ID Number', 'Geom']\n",
      "['San Andreas fault zone', 'ID_00000', 'San Andreas fault zone', 'Shelter Cove Section', '1', 'a', 'California', 'Inferred', 'historic', 'Vertical', 'Greater than 5.0 mm/yr', 'Right lateral', 'unspecified', 'A', 'Good', 'N12°W', '1082', 'California Geological Survey', 'San Francisco earthquake', '12/10/2002', 'https://earthquake.usgs.gov/cfusion/qfault/show_report_AB_archive.cfm?fault_id=1&section_id=a', 'historic Inferred', '1a', '1', 'MULTILINESTRING((-124.090694000324 40.11756400000441 0.0, -124.0905649995543 40.11569200027037 0.0, -124.0904559997744 40.11512000009119 0.0, -124.0901240004117 40.11466500032259 0.0, -124.089893000433 40.11393100124901 0.0, -124.0898769996411 40.1128669998052 0.0, -124.0898520004251 40.1112709997484 0.0, -124.0901279997113 40.10903199974997 0.0, -124.0894950000497 40.1031160001442 0.0, -124.0887710001515 40.10135000029333 0.0, -124.0873430004466 40.09905999987495 0.0, -124.0845850000479 40.09323699970534 0.0, -124.0819189997106 40.08657599997652 0.0, -124.0716099999854 40.06145300125832 0.0))']\n"
     ]
    }
   ],
   "source": [
    "def get_header(record):\n",
    "    tables = pd.read_html(StringIO(str(record.description)))\n",
    "    data_table = list(tables[1][0])\n",
    "    return data_table\n",
    "\n",
    "def read_record(record):\n",
    "    tables = pd.read_html(StringIO(str(record.description)))\n",
    "    data_table = list(tables[1][1])\n",
    "    return data_table\n",
    "\n",
    "def get_all_data(record):\n",
    "    data = []\n",
    "    data.append(record.name)\n",
    "    data.append(record.id)\n",
    "    data.extend(read_record(record))\n",
    "    data.append(record.geometry.wkt)\n",
    "    return data\n",
    "\n",
    "def get_all_headers(record):\n",
    "    data = []\n",
    "    data.append(\"Name\")\n",
    "    data.append(\"ID\")\n",
    "    data.extend(get_header(record))\n",
    "    data.append(\"Geom\")\n",
    "    return data\n",
    "\n",
    "print(get_all_headers(records[0]))\n",
    "print(get_all_data(records[0]))\n",
    "# headers = [len(get_header(element)) for element in records]"
   ]
  },
  {
   "cell_type": "code",
   "execution_count": 131,
   "id": "a50525ba0560d9bc",
   "metadata": {
    "collapsed": false,
    "jupyter": {
     "outputs_hidden": false
    }
   },
   "outputs": [],
   "source": [
    "geoms = [element.geometry for element in records]  # extract geometry\n",
    "# dir(geoms[0])"
   ]
  },
  {
   "cell_type": "code",
   "execution_count": null,
   "id": "aa0054f4-b78b-40e2-9691-ec97ebb911d5",
   "metadata": {},
   "outputs": [
    {
     "name": "stderr",
     "output_type": "stream",
     "text": [
      "Writing File...:  99%|███████████████████████████████████████████████████████▌| 111742/112527 [05:00<00:02, 368.05it/s]"
     ]
    }
   ],
   "source": [
    "filename = 'Qfaults.csv'\n",
    "with open(filename, 'w', newline=\"\") as file:\n",
    "    csvwriter = csv.writer(file)\n",
    "    header = get_all_headers(records[0])\n",
    "    csvwriter.writerow(header)\n",
    "    for record in tqdm (records, desc=\"Writing File...\"):\n",
    "        data = get_all_data(record)\n",
    "        csvwriter.writerow(data)\n",
    "    # csvwriter.writerows(data) # 5. write the rest of the data"
   ]
  },
  {
   "cell_type": "code",
   "execution_count": null,
   "id": "63eb8f4b-dc46-49eb-be1b-658e238418df",
   "metadata": {},
   "outputs": [],
   "source": []
  }
 ],
 "metadata": {
  "kernelspec": {
   "display_name": "Python 3 (ipykernel)",
   "language": "python",
   "name": "python3"
  },
  "language_info": {
   "codemirror_mode": {
    "name": "ipython",
    "version": 3
   },
   "file_extension": ".py",
   "mimetype": "text/x-python",
   "name": "python",
   "nbconvert_exporter": "python",
   "pygments_lexer": "ipython3",
   "version": "3.12.3"
  }
 },
 "nbformat": 4,
 "nbformat_minor": 5
}
