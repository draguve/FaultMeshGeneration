{
 "cells": [
  {
   "cell_type": "code",
   "execution_count": 6,
   "id": "e2ae65ff-78b8-4c31-b2c9-15878078ba36",
   "metadata": {
    "ExecuteTime": {
     "end_time": "2024-05-08T23:25:59.616825100Z",
     "start_time": "2024-05-08T23:25:59.437777100Z"
    }
   },
   "outputs": [],
   "source": [
    "import folium\n",
    "import zipfile\n",
    "import io\n",
    "from fastkml import kml\n",
    "import pandas as pd\n",
    "from io import StringIO\n",
    "import csv\n",
    "from tqdm import tqdm\n",
    "import numpy as np\n",
    "import matplotlib.pyplot as plt\n",
    "    \n",
    "import pyvista as pv\n",
    "pv.set_jupyter_backend('client')\n",
    "\n",
    "import py3dep"
   ]
  },
  {
   "cell_type": "code",
   "execution_count": 4,
   "id": "002a8b0d-f7ce-43cf-872e-c3b6e706aba4",
   "metadata": {
    "ExecuteTime": {
     "end_time": "2024-05-08T23:25:59.622822700Z",
     "start_time": "2024-05-08T23:25:59.617829100Z"
    }
   },
   "outputs": [],
   "source": [
    "# read KML content \n",
    "kmz = zipfile.ZipFile(\"qfaults.kmz\", 'r')  # extract zip file first, then read kmz file inside the extracted folder\n",
    "kml_content = kmz.open('doc.kml', 'r').read()  # kml content\n",
    "k = kml.KML()\n",
    "k.from_string(kml_content)"
   ]
  },
  {
   "cell_type": "code",
   "execution_count": 21,
   "id": "05e3462d-3a5c-403d-8e02-fcae70509d76",
   "metadata": {},
   "outputs": [],
   "source": [
    "# Step 3: Filter the landmarks based on a given name\n",
    "def filter_kml_by_name(k, name_filters):\n",
    "    filtered_kml = kml.KML()\n",
    "    ns = '{http://www.opengis.net/kml/2.2}'\n",
    "\n",
    "    for document in k.features():\n",
    "        new_doc = kml.Document(ns, document.id, document.name, document.description)\n",
    "        for folder in document.features():\n",
    "            new_folder = kml.Folder(ns, folder.id, folder.name, folder.description)\n",
    "            for placemark in folder.features():\n",
    "                for name_filter in name_filters:\n",
    "                    if name_filter in placemark.to_string():\n",
    "                        new_folder.append(placemark)\n",
    "                        break\n",
    "            if new_folder.features():\n",
    "                new_doc.append(new_folder)\n",
    "        if new_doc.features():\n",
    "            filtered_kml.append(new_doc)\n",
    "    \n",
    "    return filtered_kml\n",
    "\n",
    "\n",
    "kml_content = open('NSHM23_GeologicDeformationModel.kml', 'r').read()  # kml content\n",
    "k = kml.KML()\n",
    "k.from_string(bytes(kml_content,encoding='utf8'))\n",
    "# Filter landmarks by name\n",
    "name_filter = [\"Calaveras\",\"Hayward\",\"Rodgers\"]  # Change this to the name you want to filter by\n",
    "filtered_k = filter_kml_by_name(k, name_filter)\n",
    "\n",
    "# Step 4: Write the filtered KML content to a new file\n",
    "with open(\"filtered_nshm23.kml\", 'w', encoding='utf-8') as f:\n",
    "    f.write(filtered_k.to_string(prettyprint=True))"
   ]
  },
  {
   "cell_type": "code",
   "execution_count": 5,
   "id": "e2f12cc6-32cf-4f5b-8ff8-eb67fde45cfd",
   "metadata": {
    "ExecuteTime": {
     "end_time": "2024-05-08T23:24:42.880749800Z",
     "start_time": "2024-05-08T23:24:42.657076700Z"
    }
   },
   "outputs": [
    {
     "name": "stdout",
     "output_type": "stream",
     "text": [
      "2107\n",
      "112527\n"
     ]
    }
   ],
   "source": [
    "docs = list(k.features())\n",
    "folders=[]\n",
    "for d in docs:\n",
    "    folders.extend(list(d.features()))\n",
    "records = []\n",
    "for f in folders:\n",
    "    records.extend(list(f.features()))\n",
    "geoms = [element.geometry for element in records]\n",
    "\n",
    "names = [element.name for element in records]\n",
    "print(len(set(names)))\n",
    "print(len(names))\n",
    "geoms = [element.geometry for element in records]  # extract geometry"
   ]
  },
  {
   "cell_type": "code",
   "execution_count": 13,
   "id": "5bbd920c-4314-4597-805b-974437059575",
   "metadata": {},
   "outputs": [],
   "source": [
    "def get_header(record):\n",
    "    tables = pd.read_html(StringIO(str(record.description)))\n",
    "    data_table = list(tables[1][0])\n",
    "    return data_table\n",
    "\n",
    "def read_record(record):\n",
    "    tables = pd.read_html(StringIO(str(record.description)))\n",
    "    data_table = list(tables[1][1])\n",
    "    return data_table\n",
    "\n",
    "def get_all_data(record):\n",
    "    data = []\n",
    "    data.append(record.name)\n",
    "    data.append(record.id)\n",
    "    data.extend(read_record(record))\n",
    "    data.append(record.geometry.wkt)\n",
    "    return data\n",
    "\n",
    "def get_all_headers(record):\n",
    "    data = []\n",
    "    data.append(\"Name\")\n",
    "    data.append(\"ID\")\n",
    "    data.extend(get_header(record))\n",
    "    data.append(\"Geom\")\n",
    "    return data\n",
    "\n",
    "# print(get_all_headers(records[0]))\n",
    "# print(get_all_data(records[0]))\n",
    "# headers = [len(get_header(element)) for element in records]"
   ]
  },
  {
   "cell_type": "code",
   "execution_count": 7,
   "id": "a50525ba0560d9bc",
   "metadata": {
    "collapsed": false,
    "jupyter": {
     "outputs_hidden": false
    }
   },
   "outputs": [],
   "source": [
    "# dir(geoms[0])"
   ]
  },
  {
   "cell_type": "code",
   "execution_count": 14,
   "id": "38dd48f3a6be9683",
   "metadata": {
    "collapsed": false,
    "is_executing": true,
    "jupyter": {
     "outputs_hidden": false
    }
   },
   "outputs": [
    {
     "ename": "NameError",
     "evalue": "name 'records' is not defined",
     "output_type": "error",
     "traceback": [
      "\u001b[1;31m---------------------------------------------------------------------------\u001b[0m",
      "\u001b[1;31mNameError\u001b[0m                                 Traceback (most recent call last)",
      "Cell \u001b[1;32mIn[14], line 3\u001b[0m\n\u001b[0;32m      1\u001b[0m \u001b[38;5;66;03m#generate filtered files\u001b[39;00m\n\u001b[0;32m      2\u001b[0m filter_name \u001b[38;5;241m=\u001b[39m \u001b[38;5;124m\"\u001b[39m\u001b[38;5;124mCalaveras fault zone\u001b[39m\u001b[38;5;124m\"\u001b[39m\n\u001b[1;32m----> 3\u001b[0m filtered_records \u001b[38;5;241m=\u001b[39m \u001b[38;5;28mlist\u001b[39m(\u001b[38;5;28mfilter\u001b[39m(\u001b[38;5;28;01mlambda\u001b[39;00m record: (record\u001b[38;5;241m.\u001b[39mname \u001b[38;5;241m==\u001b[39m filter_name), \u001b[43mrecords\u001b[49m))  \n\u001b[0;32m      4\u001b[0m filtered_records \u001b[38;5;241m=\u001b[39m \u001b[38;5;28mlist\u001b[39m(\u001b[38;5;28mmap\u001b[39m(get_all_data, filtered_records))\n\u001b[0;32m      5\u001b[0m filtered_records \u001b[38;5;241m=\u001b[39m \u001b[38;5;28mlist\u001b[39m(\u001b[38;5;28mfilter\u001b[39m(\u001b[38;5;28;01mlambda\u001b[39;00m record: (record[\u001b[38;5;241m8\u001b[39m] \u001b[38;5;241m==\u001b[39m \u001b[38;5;124m\"\u001b[39m\u001b[38;5;124mhistoric\u001b[39m\u001b[38;5;124m\"\u001b[39m), filtered_records))  \n",
      "\u001b[1;31mNameError\u001b[0m: name 'records' is not defined"
     ]
    }
   ],
   "source": [
    "#generate filtered files\n",
    "filter_name = \"Calaveras fault zone\"\n",
    "filtered_records = list(filter(lambda record: (record.name == filter_name), records))  \n",
    "filtered_records = list(map(get_all_data, filtered_records))\n",
    "filtered_records = list(filter(lambda record: (record[8] == \"historic\"), filtered_records))  \n",
    "print(filtered_records)\n",
    "filename = f'{filter_name.replace(\" \", \"\")}.csv'\n",
    "with open(filename, 'w', newline=\"\") as file:\n",
    "    csvwriter = csv.writer(file)\n",
    "    header = get_all_headers(records[0])\n",
    "    csvwriter.writerow(header)\n",
    "    for record in tqdm (filtered_records, desc=\"Writing File...\"):\n",
    "        csvwriter.writerow(record)\n",
    "    # csvwriter.writerows(data) # 5. write the rest of the data"
   ]
  },
  {
   "cell_type": "code",
   "execution_count": null,
   "id": "01b993e2-3b66-46e6-9030-15442ff4d020",
   "metadata": {},
   "outputs": [],
   "source": []
  }
 ],
 "metadata": {
  "kernelspec": {
   "display_name": "Python 3 (ipykernel)",
   "language": "python",
   "name": "python3"
  },
  "language_info": {
   "codemirror_mode": {
    "name": "ipython",
    "version": 3
   },
   "file_extension": ".py",
   "mimetype": "text/x-python",
   "name": "python",
   "nbconvert_exporter": "python",
   "pygments_lexer": "ipython3",
   "version": "3.12.3"
  }
 },
 "nbformat": 4,
 "nbformat_minor": 5
}
