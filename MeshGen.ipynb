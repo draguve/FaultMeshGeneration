{
 "cells": [
  {
   "cell_type": "code",
   "execution_count": 33,
   "id": "e2ae65ff-78b8-4c31-b2c9-15878078ba36",
   "metadata": {
    "ExecuteTime": {
     "end_time": "2024-05-08T23:25:59.616825100Z",
     "start_time": "2024-05-08T23:25:59.437777100Z"
    }
   },
   "outputs": [],
   "source": [
    "import folium\n",
    "import zipfile\n",
    "import io\n",
    "from fastkml import kml\n",
    "import pandas as pd\n",
    "from io import StringIO\n",
    "import csv\n",
    "from tqdm import tqdm\n",
    "import numpy as np\n",
    "\n",
    "import pyvista as pv\n",
    "pv.set_jupyter_backend('trame')"
   ]
  },
  {
   "cell_type": "code",
   "execution_count": 3,
   "id": "002a8b0d-f7ce-43cf-872e-c3b6e706aba4",
   "metadata": {
    "ExecuteTime": {
     "end_time": "2024-05-08T23:25:59.622822700Z",
     "start_time": "2024-05-08T23:25:59.617829100Z"
    }
   },
   "outputs": [],
   "source": [
    "# read KML content \n",
    "kmz = zipfile.ZipFile(\"qfaults.kmz\", 'r')  # extract zip file first, then read kmz file inside the extracted folder\n",
    "kml_content = kmz.open('doc.kml', 'r').read()  # kml content\n",
    "k = kml.KML()\n",
    "k.from_string(kml_content)"
   ]
  },
  {
   "cell_type": "code",
   "execution_count": 4,
   "id": "24dad904-6091-4340-b806-5fe7216c176e",
   "metadata": {},
   "outputs": [],
   "source": [
    "docs = list(k.features())\n",
    "folders=[]\n",
    "for d in docs:\n",
    "    folders.extend(list(d.features()))\n",
    "records = []\n",
    "for f in folders:\n",
    "    records.extend(list(f.features()))\n",
    "geoms = [element.geometry for element in records]"
   ]
  },
  {
   "cell_type": "code",
   "execution_count": 78,
   "id": "15747ba8-0990-41c1-99c3-8a7518cb8e6f",
   "metadata": {},
   "outputs": [
    {
     "name": "stdout",
     "output_type": "stream",
     "text": [
      "Historical (150 years)\n",
      "FeatureLayer0\n"
     ]
    }
   ],
   "source": [
    "# print(dir(folders[0]))\n",
    "print(folders[0].name)\n",
    "print(folders[0].id)"
   ]
  },
  {
   "cell_type": "code",
   "execution_count": 20,
   "id": "e2f12cc6-32cf-4f5b-8ff8-eb67fde45cfd",
   "metadata": {
    "ExecuteTime": {
     "end_time": "2024-05-08T23:24:42.880749800Z",
     "start_time": "2024-05-08T23:24:42.657076700Z"
    }
   },
   "outputs": [
    {
     "name": "stdout",
     "output_type": "stream",
     "text": [
      "2107\n",
      "112527\n"
     ]
    }
   ],
   "source": [
    "names = [element.name for element in records]\n",
    "print(len(set(names)))\n",
    "print(len(name))"
   ]
  },
  {
   "cell_type": "code",
   "execution_count": 5,
   "id": "5bbd920c-4314-4597-805b-974437059575",
   "metadata": {},
   "outputs": [
    {
     "name": "stdout",
     "output_type": "stream",
     "text": [
      "['Name', 'ID', 'Fault Name', 'Section Name', 'Fault ID', 'Section ID', 'Location', 'Linetype', 'Age', 'Dip Direction', 'Slip Rate(mm/year)', 'Slip Sense', 'Mapped Scale', 'Fault Class', 'Mapping Certainty', 'Average Strike', 'Total Fault Length (km)', 'Cooperator', 'Associated Earthquake', 'Date of Last Review', 'Fault url', 'symbology', 'Citation ID', 'Fault ID Number', 'Geom']\n",
      "['San Andreas fault zone', 'ID_00000', 'San Andreas fault zone', 'Shelter Cove Section', '1', 'a', 'California', 'Inferred', 'historic', 'Vertical', 'Greater than 5.0 mm/yr', 'Right lateral', 'unspecified', 'A', 'Good', 'N12°W', '1082', 'California Geological Survey', 'San Francisco earthquake', '12/10/2002', 'https://earthquake.usgs.gov/cfusion/qfault/show_report_AB_archive.cfm?fault_id=1&section_id=a', 'historic Inferred', '1a', '1', 'MULTILINESTRING((-124.090694000324 40.11756400000441 0.0, -124.0905649995543 40.11569200027037 0.0, -124.0904559997744 40.11512000009119 0.0, -124.0901240004117 40.11466500032259 0.0, -124.089893000433 40.11393100124901 0.0, -124.0898769996411 40.1128669998052 0.0, -124.0898520004251 40.1112709997484 0.0, -124.0901279997113 40.10903199974997 0.0, -124.0894950000497 40.1031160001442 0.0, -124.0887710001515 40.10135000029333 0.0, -124.0873430004466 40.09905999987495 0.0, -124.0845850000479 40.09323699970534 0.0, -124.0819189997106 40.08657599997652 0.0, -124.0716099999854 40.06145300125832 0.0))']\n"
     ]
    }
   ],
   "source": [
    "def get_header(record):\n",
    "    tables = pd.read_html(StringIO(str(record.description)))\n",
    "    data_table = list(tables[1][0])\n",
    "    return data_table\n",
    "\n",
    "def read_record(record):\n",
    "    tables = pd.read_html(StringIO(str(record.description)))\n",
    "    data_table = list(tables[1][1])\n",
    "    return data_table\n",
    "\n",
    "def get_all_data(record):\n",
    "    data = []\n",
    "    data.append(record.name)\n",
    "    data.append(record.id)\n",
    "    data.extend(read_record(record))\n",
    "    data.append(record.geometry.wkt)\n",
    "    return data\n",
    "\n",
    "def get_all_headers(record):\n",
    "    data = []\n",
    "    data.append(\"Name\")\n",
    "    data.append(\"ID\")\n",
    "    data.extend(get_header(record))\n",
    "    data.append(\"Geom\")\n",
    "    return data\n",
    "\n",
    "print(get_all_headers(records[0]))\n",
    "print(get_all_data(records[0]))\n",
    "# headers = [len(get_header(element)) for element in records]"
   ]
  },
  {
   "cell_type": "code",
   "execution_count": 131,
   "id": "a50525ba0560d9bc",
   "metadata": {
    "collapsed": false,
    "jupyter": {
     "outputs_hidden": false
    }
   },
   "outputs": [],
   "source": [
    "geoms = [element.geometry for element in records]  # extract geometry\n",
    "# dir(geoms[0])"
   ]
  },
  {
   "cell_type": "code",
   "execution_count": 138,
   "id": "aa0054f4-b78b-40e2-9691-ec97ebb911d5",
   "metadata": {},
   "outputs": [
    {
     "name": "stderr",
     "output_type": "stream",
     "text": [
      "Writing File...: 100%|████████████████████████████████████████████████████████| 112527/112527 [05:02<00:00, 371.59it/s]\n"
     ]
    }
   ],
   "source": [
    "filename = 'Qfaults.csv'\n",
    "with open(filename, 'w', newline=\"\") as file:\n",
    "    csvwriter = csv.writer(file)\n",
    "    header = get_all_headers(records[0])\n",
    "    csvwriter.writerow(header)\n",
    "    for record in tqdm (records, desc=\"Writing File...\"):\n",
    "        data = get_all_data(record)\n",
    "        csvwriter.writerow(data)\n",
    "    # csvwriter.writerows(data) # 5. write the rest of the data"
   ]
  },
  {
   "cell_type": "code",
   "execution_count": 15,
   "id": "63eb8f4b-dc46-49eb-be1b-658e238418df",
   "metadata": {},
   "outputs": [],
   "source": [
    "filter_name = \"Calaveras fault zone\"\n",
    "filtered_records = list(filter(lambda record: (record.name == filter_name), records))  \n",
    "filtered_records = list(map(get_all_data, filtered_records))\n",
    "filtered_records = list(filter(lambda record: (record[8] == \"historic\"), filtered_records))  \n",
    "# pv.Cone().plot()"
   ]
  },
  {
   "cell_type": "code",
   "execution_count": 72,
   "id": "ab2b81f4-fdb7-4271-bcf2-a25d4a1651e5",
   "metadata": {},
   "outputs": [
    {
     "name": "stdout",
     "output_type": "stream",
     "text": [
      "(5, 3)\n"
     ]
    }
   ],
   "source": [
    "def get_points(record):\n",
    "    #last is lat,long\n",
    "    multi_line_string = record[-1][17:-2]\n",
    "    # MULTILINESTRING((-121.5036249996688 37.03746799973482 0.0, -121.503775000355 37.03769099972591 0.0))\n",
    "    points = multi_line_string.split(',')\n",
    "    lat_longs = []\n",
    "    for point in points:\n",
    "        lat_longs.append([float(x) for x in point.split(\" \") if x]) #removes empty string\n",
    "    lat_longs = np.array(lat_longs)\n",
    "    return lat_longs\n",
    "    # print(f\"{lat_longs.shape}\")\n",
    "\n",
    "\n",
    "def get_cartesian(lat=None,lon=None,R = 6371): #in km:\n",
    "    # lat, lon = np.deg2rad(lat), np.deg2rad(lon)\n",
    "    # R = 6371 # radius of the earth\n",
    "    x = R * np.cos(lat) * np.cos(lon)\n",
    "    y = R * np.cos(lat) * np.sin(lon)\n",
    "    z = R *np.sin(lat)\n",
    "    return np.vstack((x,y,z)).T\n",
    "\n",
    "all_points = get_points(filtered_records[4])\n",
    "# print(all_points)\n",
    "all_cartesian = get_cartesian(all_points[:,0],all_points[:,1])\n",
    "print(all_cartesian.shape)"
   ]
  },
  {
   "cell_type": "code",
   "execution_count": 104,
   "id": "0fcc0b45-da9b-49bd-8c45-00ab8051044c",
   "metadata": {},
   "outputs": [],
   "source": [
    "def create_wall(lat_longs,diff=1,R = 6371,connectivity_delta=0):\n",
    "    all_cartesian_top = get_cartesian(lat_longs[:,0],lat_longs[:,1],R+diff)\n",
    "    all_cartesian_bottom = get_cartesian(lat_longs[:,0],lat_longs[:,1],R-diff)\n",
    "    number_of_points,dim = all_cartesian_top.shape\n",
    "    assert(dim==3)\n",
    "    connectivity = []\n",
    "    for i in range(number_of_points-1):\n",
    "        current_top=i+connectivity_delta\n",
    "        next_top=i+1+connectivity_delta\n",
    "        current_bottom=number_of_points+i+connectivity_delta\n",
    "        next_bottom=number_of_points+i+1+connectivity_delta\n",
    "        connectivity.extend([4,current_top,next_top,next_bottom,current_bottom])\n",
    "    return np.vstack((all_cartesian_top,all_cartesian_bottom)),connectivity\n",
    "\n",
    "def center_points(vertices):\n",
    "    center = np.average(vertices,axis=0)\n",
    "    # print(vertices-center)\n",
    "    return vertices-center"
   ]
  },
  {
   "cell_type": "code",
   "execution_count": 115,
   "id": "e644a034-1ebe-40f6-a947-a316ed04f8cd",
   "metadata": {},
   "outputs": [
    {
     "name": "stdout",
     "output_type": "stream",
     "text": [
      "[[-1.67897981  0.16019123 -0.11886705]\n",
      " [ 0.66035465  0.45609916 -1.48817643]\n",
      " [-0.65998752 -0.45605272  1.48796154]\n",
      " [ 1.67861268 -0.16023767  0.11908194]]\n"
     ]
    },
    {
     "data": {
      "application/vnd.jupyter.widget-view+json": {
       "model_id": "31d5a43a32024d4a85a2cb42919cad25",
       "version_major": 2,
       "version_minor": 0
      },
      "text/plain": [
       "Widget(value='<iframe src=\"http://localhost:61734/index.html?ui=P_0x24545c19220_6&reconnect=auto\" class=\"pyvis…"
      ]
     },
     "metadata": {},
     "output_type": "display_data"
    }
   ],
   "source": [
    "lat_longs = get_points(filtered_records[5])\n",
    "vertices,connectivity = create_wall(lat_longs,diff=1)\n",
    "vertices = center_points(vertices)\n",
    "mesh = pv.PolyData(vertices, connectivity)\n",
    "mesh.plot()"
   ]
  },
  {
   "cell_type": "code",
   "execution_count": 114,
   "id": "b5460163-962b-4ae6-bd63-6302ab8a3e16",
   "metadata": {},
   "outputs": [
    {
     "name": "stdout",
     "output_type": "stream",
     "text": [
      "[[-2667.29374248 -1441.54966914  1663.79995071]\n",
      " [-2687.28582835 -1482.66068252  1683.64618674]\n",
      " [-2665.71497702 -1441.74145306  1665.01268256]\n",
      " ...\n",
      " [  598.09744415    72.50361453  -214.62898369]\n",
      " [  598.70563823    70.00851741  -213.51957337]\n",
      " [  598.65129084    71.83660988  -212.82666334]]\n"
     ]
    },
    {
     "data": {
      "application/vnd.jupyter.widget-view+json": {
       "model_id": "4999963d7b5b424db17627ee7e68b654",
       "version_major": 2,
       "version_minor": 0
      },
      "text/plain": [
       "Widget(value='<iframe src=\"http://localhost:61734/index.html?ui=P_0x24545bb3620_5&reconnect=auto\" class=\"pyvis…"
      ]
     },
     "metadata": {},
     "output_type": "display_data"
    }
   ],
   "source": [
    "# all_vertices = None\n",
    "# all_connectivity = []\n",
    "# current_num_points = 0\n",
    "# for record in filtered_records:\n",
    "#     lat_longs = get_points(record)\n",
    "#     new_points,dim = lat_longs.shape\n",
    "#     assert(dim==3)\n",
    "#     vertices,connectivity = create_wall(lat_longs,diff=1,connectivity_delta=current_num_points)\n",
    "#     if all_vertices is None:\n",
    "#         all_vertices=vertices\n",
    "#     else:\n",
    "#         all_vertices=np.vstack((all_vertices,vertices))\n",
    "#     all_connectivity.extend(connectivity)\n",
    "#     current_num_points+=new_points\n",
    "\n",
    "# all_vertices = center_points(all_vertices)\n",
    "# mesh = pv.PolyData(all_vertices, connectivity)\n",
    "# mesh.plot()\n"
   ]
  },
  {
   "cell_type": "code",
   "execution_count": null,
   "id": "bc0e4ac5-d86d-4593-8776-f5f6eedeb8cf",
   "metadata": {},
   "outputs": [],
   "source": []
  }
 ],
 "metadata": {
  "kernelspec": {
   "display_name": "Python 3 (ipykernel)",
   "language": "python",
   "name": "python3"
  },
  "language_info": {
   "codemirror_mode": {
    "name": "ipython",
    "version": 3
   },
   "file_extension": ".py",
   "mimetype": "text/x-python",
   "name": "python",
   "nbconvert_exporter": "python",
   "pygments_lexer": "ipython3",
   "version": "3.12.3"
  }
 },
 "nbformat": 4,
 "nbformat_minor": 5
}
