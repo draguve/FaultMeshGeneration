{
 "cells": [
  {
   "cell_type": "code",
   "execution_count": 78,
   "id": "e2ae65ff-78b8-4c31-b2c9-15878078ba36",
   "metadata": {
    "ExecuteTime": {
     "end_time": "2024-05-08T23:25:59.616825100Z",
     "start_time": "2024-05-08T23:25:59.437777100Z"
    }
   },
   "outputs": [],
   "source": [
    "import folium\n",
    "import zipfile\n",
    "import io\n",
    "from fastkml import kml\n",
    "import pandas as pd\n",
    "from io import StringIO\n",
    "import csv\n",
    "from tqdm import tqdm\n",
    "import numpy as np\n",
    "\n",
    "import pyvista as pv\n",
    "pv.set_jupyter_backend('client')\n",
    "\n",
    "# import py3dep"
   ]
  },
  {
   "cell_type": "code",
   "execution_count": 4,
   "id": "002a8b0d-f7ce-43cf-872e-c3b6e706aba4",
   "metadata": {
    "ExecuteTime": {
     "end_time": "2024-05-08T23:25:59.622822700Z",
     "start_time": "2024-05-08T23:25:59.617829100Z"
    }
   },
   "outputs": [],
   "source": [
    "# read KML content \n",
    "kmz = zipfile.ZipFile(\"qfaults.kmz\", 'r')  # extract zip file first, then read kmz file inside the extracted folder\n",
    "kml_content = kmz.open('doc.kml', 'r').read()  # kml content\n",
    "k = kml.KML()\n",
    "k.from_string(kml_content)"
   ]
  },
  {
   "cell_type": "code",
   "execution_count": 5,
   "id": "24dad904-6091-4340-b806-5fe7216c176e",
   "metadata": {},
   "outputs": [],
   "source": [
    "docs = list(k.features())\n",
    "folders=[]\n",
    "for d in docs:\n",
    "    folders.extend(list(d.features()))\n",
    "records = []\n",
    "for f in folders:\n",
    "    records.extend(list(f.features()))\n",
    "geoms = [element.geometry for element in records]"
   ]
  },
  {
   "cell_type": "code",
   "execution_count": 6,
   "id": "15747ba8-0990-41c1-99c3-8a7518cb8e6f",
   "metadata": {},
   "outputs": [
    {
     "name": "stdout",
     "output_type": "stream",
     "text": [
      "Historical (150 years)\n",
      "FeatureLayer0\n"
     ]
    }
   ],
   "source": [
    "# print(dir(folders[0]))\n",
    "print(folders[0].name)\n",
    "print(folders[0].id)"
   ]
  },
  {
   "cell_type": "code",
   "execution_count": 8,
   "id": "e2f12cc6-32cf-4f5b-8ff8-eb67fde45cfd",
   "metadata": {
    "ExecuteTime": {
     "end_time": "2024-05-08T23:24:42.880749800Z",
     "start_time": "2024-05-08T23:24:42.657076700Z"
    }
   },
   "outputs": [
    {
     "name": "stdout",
     "output_type": "stream",
     "text": [
      "2107\n",
      "112527\n"
     ]
    }
   ],
   "source": [
    "names = [element.name for element in records]\n",
    "print(len(set(names)))\n",
    "print(len(names))"
   ]
  },
  {
   "cell_type": "code",
   "execution_count": 9,
   "id": "5bbd920c-4314-4597-805b-974437059575",
   "metadata": {},
   "outputs": [
    {
     "name": "stdout",
     "output_type": "stream",
     "text": [
      "['Name', 'ID', 'Fault Name', 'Section Name', 'Fault ID', 'Section ID', 'Location', 'Linetype', 'Age', 'Dip Direction', 'Slip Rate(mm/year)', 'Slip Sense', 'Mapped Scale', 'Fault Class', 'Mapping Certainty', 'Average Strike', 'Total Fault Length (km)', 'Cooperator', 'Associated Earthquake', 'Date of Last Review', 'Fault url', 'symbology', 'Citation ID', 'Fault ID Number', 'Geom']\n",
      "['San Andreas fault zone', 'ID_00000', 'San Andreas fault zone', 'Shelter Cove Section', '1', 'a', 'California', 'Inferred', 'historic', 'Vertical', 'Greater than 5.0 mm/yr', 'Right lateral', 'unspecified', 'A', 'Good', 'N12°W', '1082', 'California Geological Survey', 'San Francisco earthquake', '12/10/2002', 'https://earthquake.usgs.gov/cfusion/qfault/show_report_AB_archive.cfm?fault_id=1&section_id=a', 'historic Inferred', '1a', '1', 'MULTILINESTRING((-124.090694000324 40.11756400000441 0.0, -124.0905649995543 40.11569200027037 0.0, -124.0904559997744 40.11512000009119 0.0, -124.0901240004117 40.11466500032259 0.0, -124.089893000433 40.11393100124901 0.0, -124.0898769996411 40.1128669998052 0.0, -124.0898520004251 40.1112709997484 0.0, -124.0901279997113 40.10903199974997 0.0, -124.0894950000497 40.1031160001442 0.0, -124.0887710001515 40.10135000029333 0.0, -124.0873430004466 40.09905999987495 0.0, -124.0845850000479 40.09323699970534 0.0, -124.0819189997106 40.08657599997652 0.0, -124.0716099999854 40.06145300125832 0.0))']\n"
     ]
    }
   ],
   "source": [
    "def get_header(record):\n",
    "    tables = pd.read_html(StringIO(str(record.description)))\n",
    "    data_table = list(tables[1][0])\n",
    "    return data_table\n",
    "\n",
    "def read_record(record):\n",
    "    tables = pd.read_html(StringIO(str(record.description)))\n",
    "    data_table = list(tables[1][1])\n",
    "    return data_table\n",
    "\n",
    "def get_all_data(record):\n",
    "    data = []\n",
    "    data.append(record.name)\n",
    "    data.append(record.id)\n",
    "    data.extend(read_record(record))\n",
    "    data.append(record.geometry.wkt)\n",
    "    return data\n",
    "\n",
    "def get_all_headers(record):\n",
    "    data = []\n",
    "    data.append(\"Name\")\n",
    "    data.append(\"ID\")\n",
    "    data.extend(get_header(record))\n",
    "    data.append(\"Geom\")\n",
    "    return data\n",
    "\n",
    "print(get_all_headers(records[0]))\n",
    "print(get_all_data(records[0]))\n",
    "# headers = [len(get_header(element)) for element in records]"
   ]
  },
  {
   "cell_type": "code",
   "execution_count": 10,
   "id": "a50525ba0560d9bc",
   "metadata": {
    "collapsed": false,
    "jupyter": {
     "outputs_hidden": false
    }
   },
   "outputs": [],
   "source": [
    "geoms = [element.geometry for element in records]  # extract geometry\n",
    "# dir(geoms[0])"
   ]
  },
  {
   "cell_type": "code",
   "execution_count": null,
   "id": "aa0054f4-b78b-40e2-9691-ec97ebb911d5",
   "metadata": {},
   "outputs": [],
   "source": [
    "filename = 'Qfaults.csv'\n",
    "with open(filename, 'w', newline=\"\") as file:\n",
    "    csvwriter = csv.writer(file)\n",
    "    header = get_all_headers(records[0])\n",
    "    csvwriter.writerow(header)\n",
    "    for record in tqdm (records, desc=\"Writing File...\"):\n",
    "        data = get_all_data(record)\n",
    "        csvwriter.writerow(data)\n",
    "    # csvwriter.writerows(data) # 5. write the rest of the data"
   ]
  },
  {
   "cell_type": "code",
   "execution_count": 11,
   "id": "63eb8f4b-dc46-49eb-be1b-658e238418df",
   "metadata": {},
   "outputs": [],
   "source": [
    "filter_name = \"Calaveras fault zone\"\n",
    "filtered_records = list(filter(lambda record: (record.name == filter_name), records))  \n",
    "filtered_records = list(map(get_all_data, filtered_records))\n",
    "filtered_records = list(filter(lambda record: (record[8] == \"historic\"), filtered_records))  \n",
    "# pv.Cone().plot()"
   ]
  },
  {
   "cell_type": "code",
   "execution_count": 12,
   "id": "ab2b81f4-fdb7-4271-bcf2-a25d4a1651e5",
   "metadata": {},
   "outputs": [
    {
     "name": "stdout",
     "output_type": "stream",
     "text": [
      "(5, 3)\n"
     ]
    }
   ],
   "source": [
    "def get_points(record):\n",
    "    #last is lat,long\n",
    "    multi_line_string = record[-1][17:-2]\n",
    "    # MULTILINESTRING((-121.5036249996688 37.03746799973482 0.0, -121.503775000355 37.03769099972591 0.0))\n",
    "    points = multi_line_string.split(',')\n",
    "    lat_longs = []\n",
    "    for point in points:\n",
    "        lat_longs.append([float(x) for x in point.split(\" \") if x]) #removes empty string\n",
    "    lat_longs = np.array(lat_longs)\n",
    "    return lat_longs\n",
    "    # print(f\"{lat_longs.shape}\")\n",
    "\n",
    "\n",
    "def get_cartesian(lat=None,lon=None,R = 6371): #in km:\n",
    "    # lat, lon = np.deg2rad(lat), np.deg2rad(lon)\n",
    "    # R = 6371 # radius of the earth\n",
    "    x = R * np.cos(lat) * np.cos(lon)\n",
    "    y = R * np.cos(lat) * np.sin(lon)\n",
    "    z = R *np.sin(lat)\n",
    "    return np.vstack((x,y,z)).T\n",
    "\n",
    "all_points = get_points(filtered_records[4])\n",
    "# print(all_points)\n",
    "all_cartesian = get_cartesian(all_points[:,0],all_points[:,1])\n",
    "print(all_cartesian.shape)"
   ]
  },
  {
   "cell_type": "code",
   "execution_count": 22,
   "id": "0fcc0b45-da9b-49bd-8c45-00ab8051044c",
   "metadata": {},
   "outputs": [],
   "source": [
    "def create_wall(lat_longs,diff=1,R = 6371,connectivity_delta=0):\n",
    "    all_cartesian_top = get_cartesian(lat_longs[:,0],lat_longs[:,1],R+diff)\n",
    "    all_cartesian_bottom = get_cartesian(lat_longs[:,0],lat_longs[:,1],R-diff)\n",
    "    number_of_points,dim = all_cartesian_top.shape\n",
    "    assert(dim==3)\n",
    "    connectivity = []\n",
    "    for i in range(number_of_points-1):\n",
    "        current_top=i+connectivity_delta\n",
    "        next_top=i+1+connectivity_delta\n",
    "        current_bottom=number_of_points+i+connectivity_delta\n",
    "        next_bottom=number_of_points+i+1+connectivity_delta\n",
    "        connectivity.extend([4,current_top,next_top,next_bottom,current_bottom])\n",
    "    return np.vstack((all_cartesian_top,all_cartesian_bottom)),connectivity\n",
    "\n",
    "def get_center(vertices):\n",
    "    return np.average(vertices,axis=0)\n",
    "\n",
    "def center_points(vertices):\n",
    "    center = get_center(vertices)\n",
    "    # print(vertices-center)\n",
    "    return vertices-center"
   ]
  },
  {
   "cell_type": "code",
   "execution_count": 14,
   "id": "e644a034-1ebe-40f6-a947-a316ed04f8cd",
   "metadata": {
    "scrolled": true
   },
   "outputs": [
    {
     "name": "stdout",
     "output_type": "stream",
     "text": [
      "0 (2, 3)\n",
      "1 (2, 3)\n",
      "2 (3, 3)\n",
      "3 (3, 3)\n",
      "4 (5, 3)\n",
      "5 (2, 3)\n",
      "6 (7, 3)\n",
      "7 (4, 3)\n",
      "8 (5, 3)\n",
      "9 (2, 3)\n",
      "10 (5, 3)\n",
      "11 (5, 3)\n",
      "12 (7, 3)\n",
      "13 (2, 3)\n",
      "14 (2, 3)\n",
      "15 (2, 3)\n",
      "16 (4, 3)\n",
      "17 (7, 3)\n",
      "18 (3, 3)\n",
      "19 (23, 3)\n",
      "20 (6, 3)\n",
      "21 (6, 3)\n",
      "22 (5, 3)\n",
      "23 (5, 3)\n",
      "24 (4, 3)\n",
      "25 (5, 3)\n",
      "26 (4, 3)\n",
      "27 (34, 3)\n",
      "28 (8, 3)\n",
      "29 (7, 3)\n",
      "30 (2, 3)\n",
      "31 (4, 3)\n",
      "32 (5, 3)\n",
      "33 (5, 3)\n",
      "34 (5, 3)\n",
      "35 (2, 3)\n",
      "36 (9, 3)\n",
      "37 (32, 3)\n",
      "38 (4, 3)\n",
      "39 (6, 3)\n",
      "40 (5, 3)\n",
      "41 (4, 3)\n",
      "42 (5, 3)\n",
      "43 (6, 3)\n",
      "44 (7, 3)\n",
      "45 (9, 3)\n",
      "46 (8, 3)\n",
      "47 (9, 3)\n",
      "48 (2, 3)\n",
      "49 (5, 3)\n",
      "50 (47, 3)\n",
      "51 (4, 3)\n",
      "52 (11, 3)\n",
      "53 (19, 3)\n",
      "54 (3, 3)\n",
      "55 (2, 3)\n"
     ]
    }
   ],
   "source": [
    "for i in range(len(filtered_records)):\n",
    "    record = filtered_records[i]\n",
    "    points = get_points(record)\n",
    "    print(f\"{i} {points.shape}\")"
   ]
  },
  {
   "cell_type": "code",
   "execution_count": 31,
   "id": "d5260f4a-c36b-4d19-a892-cb615bfe21de",
   "metadata": {},
   "outputs": [
    {
     "name": "stdout",
     "output_type": "stream",
     "text": [
      "['Calaveras fault zone', 'ID_013370', 'Calaveras fault zone', 'Central Calaveras fault section', '54', 'b', 'California', 'Well Constrained', 'historic', 'Vertical', 'Greater than 5.0 mm/yr', 'Right lateral', 'unspecified', 'A', 'Good', 'N31°W', '156', 'California Geological Survey', nan, '3/4/1999', 'https://earthquake.usgs.gov/cfusion/qfault/show_report_AB_archive.cfm?fault_id=54&section_id=b', 'historic Well Constrained', '54b', '54', 'MULTILINESTRING((-121.5220680008483 37.06249100125695 0.0, -121.5213289999832 37.06151800068823 0.0, -121.5206400002451 37.06059699973964 0.0, -121.5200439985968 37.05976199965384 0.0, -121.5197250005512 37.05928900030983 0.0, -121.5192200000378 37.05850900019624 0.0, -121.5187150004228 37.05770200004009 0.0, -121.5178850002194 37.05640400012071 0.0, -121.5170319995515 37.05518899999051 0.0, -121.5161329997511 37.05396899998396 0.0, -121.515657999375 37.05336299986466 0.0, -121.515205998565 37.05286700031817 0.0, -121.5144079999453 37.05180700005842 0.0, -121.5137140001844 37.05072300023176 0.0, -121.5131170014061 37.04970900012483 0.0, -121.5128310002775 37.04927800009157 0.0, -121.5125769998343 37.04902099987667 0.0, -121.5123520006017 37.0486570001281 0.0, -121.512066999298 37.04821800132559 0.0, -121.5118200003241 37.04792999987455 0.0, -121.5114279997887 37.04739499988728 0.0, -121.5106620000577 37.04614300004557 0.0, -121.509882000083 37.04462900065746 0.0))']\n"
     ]
    },
    {
     "data": {
      "application/vnd.jupyter.widget-view+json": {
       "model_id": "1c316feaf2f44c37af7e432971021614",
       "version_major": 2,
       "version_minor": 0
      },
      "text/plain": [
       "Widget(value='<iframe src=\"http://localhost:49172/index.html?ui=P_0x28c64f3ef00_3&reconnect=auto\" class=\"pyvis…"
      ]
     },
     "metadata": {},
     "output_type": "display_data"
    }
   ],
   "source": [
    "print(filtered_records[19])\n",
    "lat_longs = get_points(filtered_records[19])\n",
    "vertices,connectivity = create_wall(lat_longs,diff=10)\n",
    "vertices = center_points(vertices)\n",
    "mesh = pv.PolyData(vertices, connectivity)\n",
    "mesh = mesh.triangulate() #important to be able to join the multiple meshes together\n",
    "mesh.plot(show_edges=True, line_width=5)"
   ]
  },
  {
   "cell_type": "code",
   "execution_count": 55,
   "id": "b5460163-962b-4ae6-bd63-6302ab8a3e16",
   "metadata": {
    "editable": true,
    "slideshow": {
     "slide_type": ""
    },
    "tags": []
   },
   "outputs": [
    {
     "data": {
      "application/vnd.jupyter.widget-view+json": {
       "model_id": "324dc485f6364b6d971e1cdaf15cadaa",
       "version_major": 2,
       "version_minor": 0
      },
      "text/plain": [
       "Widget(value='<iframe src=\"http://localhost:49172/index.html?ui=P_0x28c8c3f4380_18&reconnect=auto\" class=\"pyvi…"
      ]
     },
     "metadata": {},
     "output_type": "display_data"
    }
   ],
   "source": [
    "to_generate = filtered_records[18:]\n",
    "all_vertices = []\n",
    "all_connectivity = []\n",
    "all_lat_longs = []\n",
    "for record in to_generate:\n",
    "    lat_longs = get_points(record)\n",
    "    all_lat_longs.append(lat_longs)\n",
    "    new_points,dim = lat_longs.shape\n",
    "    assert(dim==3)\n",
    "    vertices,connectivity = create_wall(lat_longs,diff=20,connectivity_delta=0)\n",
    "    all_vertices.append(vertices)\n",
    "    all_connectivity.append(connectivity)\n",
    "all_lat_longs = np.vstack(all_lat_longs)\n",
    "center = get_center(np.vstack(all_vertices))\n",
    "for i in range(len(all_vertices)):\n",
    "    all_vertices[i] = all_vertices[i]-center\n",
    "meshes = pv.MultiBlock()\n",
    "for i in range(0,len(all_vertices)):\n",
    "    mesh = pv.PolyData(all_vertices[i], all_connectivity[i])\n",
    "    mesh = mesh.triangulate()\n",
    "    meshes.append(mesh)\n",
    "# meshes = meshes.combine().clean()\n",
    "meshes.plot(show_edges=True, line_width=0.5)"
   ]
  },
  {
   "cell_type": "code",
   "execution_count": 77,
   "id": "427f2e50-0249-4fde-b6ec-464d671236d6",
   "metadata": {},
   "outputs": [
    {
     "data": {
      "text/plain": [
       "array([[-122.23075778,   36.11418322,    0.        ],\n",
       "       [-120.69231722,   37.77277278,    0.        ]])"
      ]
     },
     "execution_count": 77,
     "metadata": {},
     "output_type": "execute_result"
    }
   ],
   "source": [
    "def bounding_box_numpy(points: np.array):\n",
    "    \"\"\"\n",
    "    Find min/max from an N-collection of coordinate pairs, shape = (N, 2), using \n",
    "    numpy's min/max along the collection-axis \n",
    "    \"\"\"\n",
    "    return np.array((points.min(axis=0), points.max(axis=0)))\n",
    "\n",
    "def get_bb_from_lat_long(lat_longs,diff=1):\n",
    "    distance = np.sqrt(diff/2)\n",
    "    up = np.array((distance,distance,0))\n",
    "    down = np.array((distance,-distance,0))\n",
    "    left = np.array((-distance,distance,0))\n",
    "    right = np.array((-distance,-distance,0))\n",
    "    all_points = np.vstack((lat_longs+up,lat_longs+down,lat_longs+left,lat_longs+right))\n",
    "    return bounding_box_numpy(all_points)\n",
    "    \n",
    "get_bb_from_lat_long(all_lat_longs)"
   ]
  },
  {
   "cell_type": "code",
   "execution_count": null,
   "id": "09cd6af6-f726-4a4e-9d97-b6dcdf97dacb",
   "metadata": {},
   "outputs": [],
   "source": []
  }
 ],
 "metadata": {
  "kernelspec": {
   "display_name": "Python 3 (ipykernel)",
   "language": "python",
   "name": "python3"
  },
  "language_info": {
   "codemirror_mode": {
    "name": "ipython",
    "version": 3
   },
   "file_extension": ".py",
   "mimetype": "text/x-python",
   "name": "python",
   "nbconvert_exporter": "python",
   "pygments_lexer": "ipython3",
   "version": "3.12.3"
  }
 },
 "nbformat": 4,
 "nbformat_minor": 5
}
